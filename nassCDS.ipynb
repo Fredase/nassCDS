{
 "cells": [
  {
   "cell_type": "code",
   "execution_count": 10,
   "metadata": {},
   "outputs": [
    {
     "data": {
      "text/plain": [
       "'C:\\\\Users\\\\Ezinne\\\\Desktop\\\\nassCDS'"
      ]
     },
     "execution_count": 10,
     "metadata": {},
     "output_type": "execute_result"
    }
   ],
   "source": [
    "##Before anything, set your working directory\n",
    "import os\n",
    "os.chdir(\"C:/Users/Ezinne/Desktop/nassCDS\")\n",
    "os.getcwd()"
   ]
  },
  {
   "cell_type": "markdown",
   "metadata": {},
   "source": [
    "### An analysis of the influence of Airbags and other factors in accident fatalities among front seat passengers "
   ]
  },
  {
   "cell_type": "code",
   "execution_count": 11,
   "metadata": {},
   "outputs": [],
   "source": [
    "##Import the required libraries to be used for the analysis\n",
    "import pandas as pd\n",
    "import matplotlib.pyplot as plt\n",
    "import seaborn as sns\n",
    "import numpy as np\n",
    "\n",
    "%matplotlib inline\n",
    "\n",
    "plt.style.use('bmh')"
   ]
  },
  {
   "cell_type": "code",
   "execution_count": 12,
   "metadata": {},
   "outputs": [
    {
     "data": {
      "text/html": [
       "<div>\n",
       "<style scoped>\n",
       "    .dataframe tbody tr th:only-of-type {\n",
       "        vertical-align: middle;\n",
       "    }\n",
       "\n",
       "    .dataframe tbody tr th {\n",
       "        vertical-align: top;\n",
       "    }\n",
       "\n",
       "    .dataframe thead th {\n",
       "        text-align: right;\n",
       "    }\n",
       "</style>\n",
       "<table border=\"1\" class=\"dataframe\">\n",
       "  <thead>\n",
       "    <tr style=\"text-align: right;\">\n",
       "      <th></th>\n",
       "      <th>Unnamed: 0</th>\n",
       "      <th>dvcat</th>\n",
       "      <th>weight</th>\n",
       "      <th>dead</th>\n",
       "      <th>airbag</th>\n",
       "      <th>seatbelt</th>\n",
       "      <th>frontal</th>\n",
       "      <th>sex</th>\n",
       "      <th>ageOFocc</th>\n",
       "      <th>yearacc</th>\n",
       "      <th>yearVeh</th>\n",
       "      <th>abcat</th>\n",
       "      <th>occRole</th>\n",
       "      <th>deploy</th>\n",
       "      <th>injSeverity</th>\n",
       "      <th>caseid</th>\n",
       "    </tr>\n",
       "  </thead>\n",
       "  <tbody>\n",
       "    <tr>\n",
       "      <th>0</th>\n",
       "      <td>1</td>\n",
       "      <td>25-39</td>\n",
       "      <td>25.069</td>\n",
       "      <td>alive</td>\n",
       "      <td>none</td>\n",
       "      <td>belted</td>\n",
       "      <td>1</td>\n",
       "      <td>f</td>\n",
       "      <td>26</td>\n",
       "      <td>1997</td>\n",
       "      <td>1990.0</td>\n",
       "      <td>unavail</td>\n",
       "      <td>driver</td>\n",
       "      <td>0</td>\n",
       "      <td>3.0</td>\n",
       "      <td>2:3:1</td>\n",
       "    </tr>\n",
       "    <tr>\n",
       "      <th>1</th>\n",
       "      <td>2</td>\n",
       "      <td>10-24</td>\n",
       "      <td>25.069</td>\n",
       "      <td>alive</td>\n",
       "      <td>airbag</td>\n",
       "      <td>belted</td>\n",
       "      <td>1</td>\n",
       "      <td>f</td>\n",
       "      <td>72</td>\n",
       "      <td>1997</td>\n",
       "      <td>1995.0</td>\n",
       "      <td>deploy</td>\n",
       "      <td>driver</td>\n",
       "      <td>1</td>\n",
       "      <td>1.0</td>\n",
       "      <td>2:3:2</td>\n",
       "    </tr>\n",
       "    <tr>\n",
       "      <th>2</th>\n",
       "      <td>3</td>\n",
       "      <td>10-24</td>\n",
       "      <td>32.379</td>\n",
       "      <td>alive</td>\n",
       "      <td>none</td>\n",
       "      <td>none</td>\n",
       "      <td>1</td>\n",
       "      <td>f</td>\n",
       "      <td>69</td>\n",
       "      <td>1997</td>\n",
       "      <td>1988.0</td>\n",
       "      <td>unavail</td>\n",
       "      <td>driver</td>\n",
       "      <td>0</td>\n",
       "      <td>4.0</td>\n",
       "      <td>2:5:1</td>\n",
       "    </tr>\n",
       "    <tr>\n",
       "      <th>3</th>\n",
       "      <td>4</td>\n",
       "      <td>25-39</td>\n",
       "      <td>495.444</td>\n",
       "      <td>alive</td>\n",
       "      <td>airbag</td>\n",
       "      <td>belted</td>\n",
       "      <td>1</td>\n",
       "      <td>f</td>\n",
       "      <td>53</td>\n",
       "      <td>1997</td>\n",
       "      <td>1995.0</td>\n",
       "      <td>deploy</td>\n",
       "      <td>driver</td>\n",
       "      <td>1</td>\n",
       "      <td>1.0</td>\n",
       "      <td>2:10:1</td>\n",
       "    </tr>\n",
       "    <tr>\n",
       "      <th>4</th>\n",
       "      <td>5</td>\n",
       "      <td>25-39</td>\n",
       "      <td>25.069</td>\n",
       "      <td>alive</td>\n",
       "      <td>none</td>\n",
       "      <td>belted</td>\n",
       "      <td>1</td>\n",
       "      <td>f</td>\n",
       "      <td>32</td>\n",
       "      <td>1997</td>\n",
       "      <td>1988.0</td>\n",
       "      <td>unavail</td>\n",
       "      <td>driver</td>\n",
       "      <td>0</td>\n",
       "      <td>3.0</td>\n",
       "      <td>2:11:1</td>\n",
       "    </tr>\n",
       "  </tbody>\n",
       "</table>\n",
       "</div>"
      ],
      "text/plain": [
       "   Unnamed: 0  dvcat   weight   dead  airbag seatbelt  frontal sex  ageOFocc  \\\n",
       "0           1  25-39   25.069  alive    none   belted        1   f        26   \n",
       "1           2  10-24   25.069  alive  airbag   belted        1   f        72   \n",
       "2           3  10-24   32.379  alive    none     none        1   f        69   \n",
       "3           4  25-39  495.444  alive  airbag   belted        1   f        53   \n",
       "4           5  25-39   25.069  alive    none   belted        1   f        32   \n",
       "\n",
       "   yearacc  yearVeh    abcat occRole  deploy  injSeverity  caseid  \n",
       "0     1997   1990.0  unavail  driver       0          3.0   2:3:1  \n",
       "1     1997   1995.0   deploy  driver       1          1.0   2:3:2  \n",
       "2     1997   1988.0  unavail  driver       0          4.0   2:5:1  \n",
       "3     1997   1995.0   deploy  driver       1          1.0  2:10:1  \n",
       "4     1997   1988.0  unavail  driver       0          3.0  2:11:1  "
      ]
     },
     "execution_count": 12,
     "metadata": {},
     "output_type": "execute_result"
    }
   ],
   "source": [
    "##First we begin by reading in the data for the analysis\n",
    "\n",
    "nassCDS = pd.read_csv(\"nassCDS.csv\")\n",
    "\n",
    "nassCDS.head(5)"
   ]
  },
  {
   "cell_type": "code",
   "execution_count": 4,
   "metadata": {},
   "outputs": [
    {
     "data": {
      "text/plain": [
       "(26217, 16)"
      ]
     },
     "execution_count": 4,
     "metadata": {},
     "output_type": "execute_result"
    }
   ],
   "source": [
    "##Check out the dimensions of the data\n",
    "nassCDS.shape"
   ]
  },
  {
   "cell_type": "markdown",
   "metadata": {},
   "source": [
    "##### The above code produces the dimensions to the data, which shows that this is a dataframe with 26217 rows and 16 columns of data "
   ]
  },
  {
   "cell_type": "code",
   "execution_count": 5,
   "metadata": {},
   "outputs": [
    {
     "name": "stdout",
     "output_type": "stream",
     "text": [
      "        Unnamed: 0        weight       frontal      ageOFocc       yearacc  \\\n",
      "count  26217.00000  26217.000000  26217.000000  26217.000000  26217.000000   \n",
      "mean   13109.00000    462.811611      0.643323     37.206202   1999.555556   \n",
      "std     7568.34034   1524.844430      0.479027     17.909317      1.702546   \n",
      "min        1.00000      0.000000      0.000000     16.000000   1997.000000   \n",
      "25%     6555.00000     32.467000      0.000000     22.000000   1998.000000   \n",
      "50%    13109.00000     86.986000      1.000000     33.000000   2000.000000   \n",
      "75%    19663.00000    364.717000      1.000000     48.000000   2001.000000   \n",
      "max    26217.00000  57871.595000      1.000000     97.000000   2002.000000   \n",
      "\n",
      "            yearVeh        deploy   injSeverity  \n",
      "count  26216.000000  26217.000000  26064.000000  \n",
      "mean    1992.804699      0.337033      1.715508  \n",
      "std        5.594990      0.472705      1.293357  \n",
      "min     1953.000000      0.000000      0.000000  \n",
      "25%     1989.000000      0.000000      1.000000  \n",
      "50%     1994.000000      0.000000      2.000000  \n",
      "75%     1997.000000      1.000000      3.000000  \n",
      "max     2003.000000      1.000000      6.000000  \n",
      "        dvcat   dead  airbag seatbelt    sex    abcat occRole    caseid\n",
      "count   26217  26217   26217    26217  26217    26217   26217     26217\n",
      "unique      5      2       2        2      2        3       2      9409\n",
      "top     10-24  alive  airbag   belted      m  unavail  driver  13:157:1\n",
      "freq    12848  25037   14419    18573  13969    11798   20601        11\n"
     ]
    }
   ],
   "source": [
    "##Obtain summary statistics of the various variables that make up the data\n",
    "print(nassCDS.describe())\n",
    "print(nassCDS.describe(include = np.object))\n",
    "\n",
    "##Alternatively nassCDS.count() gives the count of values in each variable"
   ]
  },
  {
   "cell_type": "code",
   "execution_count": 6,
   "metadata": {},
   "outputs": [
    {
     "name": "stdout",
     "output_type": "stream",
     "text": [
      "<class 'pandas.core.frame.DataFrame'>\n",
      "RangeIndex: 26217 entries, 0 to 26216\n",
      "Data columns (total 16 columns):\n",
      " #   Column       Non-Null Count  Dtype  \n",
      "---  ------       --------------  -----  \n",
      " 0   Unnamed: 0   26217 non-null  int64  \n",
      " 1   dvcat        26217 non-null  object \n",
      " 2   weight       26217 non-null  float64\n",
      " 3   dead         26217 non-null  object \n",
      " 4   airbag       26217 non-null  object \n",
      " 5   seatbelt     26217 non-null  object \n",
      " 6   frontal      26217 non-null  int64  \n",
      " 7   sex          26217 non-null  object \n",
      " 8   ageOFocc     26217 non-null  int64  \n",
      " 9   yearacc      26217 non-null  int64  \n",
      " 10  yearVeh      26216 non-null  float64\n",
      " 11  abcat        26217 non-null  object \n",
      " 12  occRole      26217 non-null  object \n",
      " 13  deploy       26217 non-null  int64  \n",
      " 14  injSeverity  26064 non-null  float64\n",
      " 15  caseid       26217 non-null  object \n",
      "dtypes: float64(3), int64(5), object(8)\n",
      "memory usage: 3.2+ MB\n"
     ]
    }
   ],
   "source": [
    "##Another way of having a quick look at the data is through the 'info' method\n",
    "\n",
    "nassCDS.info()"
   ]
  },
  {
   "cell_type": "code",
   "execution_count": 15,
   "metadata": {},
   "outputs": [
    {
     "data": {
      "text/plain": [
       "Unnamed: 0       int64\n",
       "dvcat           object\n",
       "weight         float64\n",
       "dead            object\n",
       "airbag          object\n",
       "seatbelt        object\n",
       "frontal          int64\n",
       "sex             object\n",
       "ageOFocc         int64\n",
       "yearacc          int64\n",
       "yearVeh        float64\n",
       "abcat           object\n",
       "occRole         object\n",
       "deploy           int64\n",
       "injSeverity    float64\n",
       "caseid          object\n",
       "dtype: object"
      ]
     },
     "execution_count": 15,
     "metadata": {},
     "output_type": "execute_result"
    }
   ],
   "source": [
    "##We can investigate further the types of data that is contained in each variable\n",
    "\n",
    "nassCDS.dtypes"
   ]
  },
  {
   "cell_type": "code",
   "execution_count": 6,
   "metadata": {},
   "outputs": [
    {
     "data": {
      "text/plain": [
       "Unnamed: 0       0\n",
       "dvcat            0\n",
       "weight           0\n",
       "dead             0\n",
       "airbag           0\n",
       "seatbelt         0\n",
       "frontal          0\n",
       "sex              0\n",
       "ageOFocc         0\n",
       "yearacc          0\n",
       "yearVeh          1\n",
       "abcat            0\n",
       "occRole          0\n",
       "deploy           0\n",
       "injSeverity    153\n",
       "caseid           0\n",
       "dtype: int64"
      ]
     },
     "execution_count": 6,
     "metadata": {},
     "output_type": "execute_result"
    }
   ],
   "source": [
    "##Check for missing values\n",
    "\n",
    "nassCDS.isnull().sum()"
   ]
  },
  {
   "cell_type": "markdown",
   "metadata": {},
   "source": [
    "#### The above shows that a good majority (13 out of 15) of the variables do not contain any missing value. The 'yearVeh' variable is\n",
    "#### missing one value, while 'injSeverity' has a total of 153 missing values"
   ]
  },
  {
   "cell_type": "code",
   "execution_count": 7,
   "metadata": {},
   "outputs": [
    {
     "data": {
      "text/plain": [
       "0.000      212\n",
       "1.000       65\n",
       "148.497      2\n",
       "84.251       5\n",
       "353.005      2\n",
       "          ... \n",
       "702.016      2\n",
       "287.993      1\n",
       "711.154      1\n",
       "476.732      4\n",
       "151.994      1\n",
       "Name: weight, Length: 10131, dtype: int64"
      ]
     },
     "execution_count": 7,
     "metadata": {},
     "output_type": "execute_result"
    }
   ],
   "source": [
    "##Create a Frequency table of the 'weight' variable\n",
    "\n",
    "nassCDS['weight'].value_counts(sort = False) \n",
    "\n",
    "##Alternatively : nassCDS.groupby('weight').size()"
   ]
  },
  {
   "cell_type": "code",
   "execution_count": 8,
   "metadata": {},
   "outputs": [
    {
     "data": {
      "text/plain": [
       "0.000      0.008086\n",
       "1.000      0.002479\n",
       "148.497    0.000076\n",
       "84.251     0.000191\n",
       "353.005    0.000076\n",
       "             ...   \n",
       "702.016    0.000076\n",
       "287.993    0.000038\n",
       "711.154    0.000038\n",
       "476.732    0.000153\n",
       "151.994    0.000038\n",
       "Name: weight, Length: 10131, dtype: float64"
      ]
     },
     "execution_count": 8,
     "metadata": {},
     "output_type": "execute_result"
    }
   ],
   "source": [
    "##To express the frequency as percentages or proportions\n",
    "\n",
    "nassCDS['weight'].value_counts(sort = False, normalize = True)\n",
    "\n",
    "##Alternatively: nassCDS.groupby('weight').size() * 100/len('weight')"
   ]
  },
  {
   "cell_type": "code",
   "execution_count": 16,
   "metadata": {},
   "outputs": [
    {
     "data": {
      "text/html": [
       "<div>\n",
       "<style scoped>\n",
       "    .dataframe tbody tr th:only-of-type {\n",
       "        vertical-align: middle;\n",
       "    }\n",
       "\n",
       "    .dataframe tbody tr th {\n",
       "        vertical-align: top;\n",
       "    }\n",
       "\n",
       "    .dataframe thead th {\n",
       "        text-align: right;\n",
       "    }\n",
       "</style>\n",
       "<table border=\"1\" class=\"dataframe\">\n",
       "  <thead>\n",
       "    <tr style=\"text-align: right;\">\n",
       "      <th></th>\n",
       "      <th>dvcat</th>\n",
       "      <th>weight</th>\n",
       "      <th>dead</th>\n",
       "      <th>airbag</th>\n",
       "      <th>seatbelt</th>\n",
       "      <th>frontal</th>\n",
       "      <th>sex</th>\n",
       "      <th>ageOFocc</th>\n",
       "      <th>yearacc</th>\n",
       "      <th>yearVeh</th>\n",
       "      <th>abcat</th>\n",
       "      <th>occRole</th>\n",
       "      <th>deploy</th>\n",
       "      <th>injSeverity</th>\n",
       "      <th>caseid</th>\n",
       "    </tr>\n",
       "  </thead>\n",
       "  <tbody>\n",
       "    <tr>\n",
       "      <th>0</th>\n",
       "      <td>25-39</td>\n",
       "      <td>25.069</td>\n",
       "      <td>alive</td>\n",
       "      <td>none</td>\n",
       "      <td>belted</td>\n",
       "      <td>1</td>\n",
       "      <td>f</td>\n",
       "      <td>26</td>\n",
       "      <td>1997</td>\n",
       "      <td>1990.0</td>\n",
       "      <td>unavail</td>\n",
       "      <td>driver</td>\n",
       "      <td>0</td>\n",
       "      <td>3.0</td>\n",
       "      <td>2:3:1</td>\n",
       "    </tr>\n",
       "    <tr>\n",
       "      <th>1</th>\n",
       "      <td>10-24</td>\n",
       "      <td>25.069</td>\n",
       "      <td>alive</td>\n",
       "      <td>airbag</td>\n",
       "      <td>belted</td>\n",
       "      <td>1</td>\n",
       "      <td>f</td>\n",
       "      <td>72</td>\n",
       "      <td>1997</td>\n",
       "      <td>1995.0</td>\n",
       "      <td>deploy</td>\n",
       "      <td>driver</td>\n",
       "      <td>1</td>\n",
       "      <td>1.0</td>\n",
       "      <td>2:3:2</td>\n",
       "    </tr>\n",
       "    <tr>\n",
       "      <th>2</th>\n",
       "      <td>10-24</td>\n",
       "      <td>32.379</td>\n",
       "      <td>alive</td>\n",
       "      <td>none</td>\n",
       "      <td>none</td>\n",
       "      <td>1</td>\n",
       "      <td>f</td>\n",
       "      <td>69</td>\n",
       "      <td>1997</td>\n",
       "      <td>1988.0</td>\n",
       "      <td>unavail</td>\n",
       "      <td>driver</td>\n",
       "      <td>0</td>\n",
       "      <td>4.0</td>\n",
       "      <td>2:5:1</td>\n",
       "    </tr>\n",
       "    <tr>\n",
       "      <th>3</th>\n",
       "      <td>25-39</td>\n",
       "      <td>495.444</td>\n",
       "      <td>alive</td>\n",
       "      <td>airbag</td>\n",
       "      <td>belted</td>\n",
       "      <td>1</td>\n",
       "      <td>f</td>\n",
       "      <td>53</td>\n",
       "      <td>1997</td>\n",
       "      <td>1995.0</td>\n",
       "      <td>deploy</td>\n",
       "      <td>driver</td>\n",
       "      <td>1</td>\n",
       "      <td>1.0</td>\n",
       "      <td>2:10:1</td>\n",
       "    </tr>\n",
       "    <tr>\n",
       "      <th>4</th>\n",
       "      <td>25-39</td>\n",
       "      <td>25.069</td>\n",
       "      <td>alive</td>\n",
       "      <td>none</td>\n",
       "      <td>belted</td>\n",
       "      <td>1</td>\n",
       "      <td>f</td>\n",
       "      <td>32</td>\n",
       "      <td>1997</td>\n",
       "      <td>1988.0</td>\n",
       "      <td>unavail</td>\n",
       "      <td>driver</td>\n",
       "      <td>0</td>\n",
       "      <td>3.0</td>\n",
       "      <td>2:11:1</td>\n",
       "    </tr>\n",
       "  </tbody>\n",
       "</table>\n",
       "</div>"
      ],
      "text/plain": [
       "   dvcat   weight   dead  airbag seatbelt  frontal sex  ageOFocc  yearacc  \\\n",
       "0  25-39   25.069  alive    none   belted        1   f        26     1997   \n",
       "1  10-24   25.069  alive  airbag   belted        1   f        72     1997   \n",
       "2  10-24   32.379  alive    none     none        1   f        69     1997   \n",
       "3  25-39  495.444  alive  airbag   belted        1   f        53     1997   \n",
       "4  25-39   25.069  alive    none   belted        1   f        32     1997   \n",
       "\n",
       "   yearVeh    abcat occRole  deploy  injSeverity  caseid  \n",
       "0   1990.0  unavail  driver       0          3.0   2:3:1  \n",
       "1   1995.0   deploy  driver       1          1.0   2:3:2  \n",
       "2   1988.0  unavail  driver       0          4.0   2:5:1  \n",
       "3   1995.0   deploy  driver       1          1.0  2:10:1  \n",
       "4   1988.0  unavail  driver       0          3.0  2:11:1  "
      ]
     },
     "execution_count": 16,
     "metadata": {},
     "output_type": "execute_result"
    }
   ],
   "source": [
    "#Make a copy of the data\n",
    "\n",
    "nassCDS2 = nassCDS.drop(['Unnamed: 0'], axis = 1)\n",
    "\n",
    "nassCDS2.head(5)"
   ]
  },
  {
   "cell_type": "code",
   "execution_count": 17,
   "metadata": {},
   "outputs": [
    {
     "data": {
      "text/html": [
       "<div>\n",
       "<style scoped>\n",
       "    .dataframe tbody tr th:only-of-type {\n",
       "        vertical-align: middle;\n",
       "    }\n",
       "\n",
       "    .dataframe tbody tr th {\n",
       "        vertical-align: top;\n",
       "    }\n",
       "\n",
       "    .dataframe thead th {\n",
       "        text-align: right;\n",
       "    }\n",
       "</style>\n",
       "<table border=\"1\" class=\"dataframe\">\n",
       "  <thead>\n",
       "    <tr style=\"text-align: right;\">\n",
       "      <th></th>\n",
       "      <th>Speed Impact</th>\n",
       "      <th>Weight</th>\n",
       "      <th>Fatality</th>\n",
       "      <th>AirBag</th>\n",
       "      <th>Seatbelt</th>\n",
       "      <th>Frontal</th>\n",
       "      <th>Sex</th>\n",
       "      <th>Pass Age</th>\n",
       "      <th>Accident Year</th>\n",
       "      <th>YearVeh</th>\n",
       "      <th>Abcat</th>\n",
       "      <th>Role</th>\n",
       "      <th>Airbag Deploy</th>\n",
       "      <th>InjSeverity</th>\n",
       "    </tr>\n",
       "    <tr>\n",
       "      <th>CaseID</th>\n",
       "      <th></th>\n",
       "      <th></th>\n",
       "      <th></th>\n",
       "      <th></th>\n",
       "      <th></th>\n",
       "      <th></th>\n",
       "      <th></th>\n",
       "      <th></th>\n",
       "      <th></th>\n",
       "      <th></th>\n",
       "      <th></th>\n",
       "      <th></th>\n",
       "      <th></th>\n",
       "      <th></th>\n",
       "    </tr>\n",
       "  </thead>\n",
       "  <tbody>\n",
       "    <tr>\n",
       "      <th>2:3:1</th>\n",
       "      <td>25-39</td>\n",
       "      <td>25.069</td>\n",
       "      <td>alive</td>\n",
       "      <td>none</td>\n",
       "      <td>belted</td>\n",
       "      <td>1</td>\n",
       "      <td>f</td>\n",
       "      <td>26</td>\n",
       "      <td>1997</td>\n",
       "      <td>1990.0</td>\n",
       "      <td>unavail</td>\n",
       "      <td>driver</td>\n",
       "      <td>0</td>\n",
       "      <td>3.0</td>\n",
       "    </tr>\n",
       "    <tr>\n",
       "      <th>2:3:2</th>\n",
       "      <td>10-24</td>\n",
       "      <td>25.069</td>\n",
       "      <td>alive</td>\n",
       "      <td>airbag</td>\n",
       "      <td>belted</td>\n",
       "      <td>1</td>\n",
       "      <td>f</td>\n",
       "      <td>72</td>\n",
       "      <td>1997</td>\n",
       "      <td>1995.0</td>\n",
       "      <td>deploy</td>\n",
       "      <td>driver</td>\n",
       "      <td>1</td>\n",
       "      <td>1.0</td>\n",
       "    </tr>\n",
       "    <tr>\n",
       "      <th>2:5:1</th>\n",
       "      <td>10-24</td>\n",
       "      <td>32.379</td>\n",
       "      <td>alive</td>\n",
       "      <td>none</td>\n",
       "      <td>none</td>\n",
       "      <td>1</td>\n",
       "      <td>f</td>\n",
       "      <td>69</td>\n",
       "      <td>1997</td>\n",
       "      <td>1988.0</td>\n",
       "      <td>unavail</td>\n",
       "      <td>driver</td>\n",
       "      <td>0</td>\n",
       "      <td>4.0</td>\n",
       "    </tr>\n",
       "    <tr>\n",
       "      <th>2:10:1</th>\n",
       "      <td>25-39</td>\n",
       "      <td>495.444</td>\n",
       "      <td>alive</td>\n",
       "      <td>airbag</td>\n",
       "      <td>belted</td>\n",
       "      <td>1</td>\n",
       "      <td>f</td>\n",
       "      <td>53</td>\n",
       "      <td>1997</td>\n",
       "      <td>1995.0</td>\n",
       "      <td>deploy</td>\n",
       "      <td>driver</td>\n",
       "      <td>1</td>\n",
       "      <td>1.0</td>\n",
       "    </tr>\n",
       "    <tr>\n",
       "      <th>2:11:1</th>\n",
       "      <td>25-39</td>\n",
       "      <td>25.069</td>\n",
       "      <td>alive</td>\n",
       "      <td>none</td>\n",
       "      <td>belted</td>\n",
       "      <td>1</td>\n",
       "      <td>f</td>\n",
       "      <td>32</td>\n",
       "      <td>1997</td>\n",
       "      <td>1988.0</td>\n",
       "      <td>unavail</td>\n",
       "      <td>driver</td>\n",
       "      <td>0</td>\n",
       "      <td>3.0</td>\n",
       "    </tr>\n",
       "  </tbody>\n",
       "</table>\n",
       "</div>"
      ],
      "text/plain": [
       "       Speed Impact   Weight Fatality  AirBag Seatbelt  Frontal Sex  Pass Age  \\\n",
       "CaseID                                                                          \n",
       "2:3:1         25-39   25.069    alive    none   belted        1   f        26   \n",
       "2:3:2         10-24   25.069    alive  airbag   belted        1   f        72   \n",
       "2:5:1         10-24   32.379    alive    none     none        1   f        69   \n",
       "2:10:1        25-39  495.444    alive  airbag   belted        1   f        53   \n",
       "2:11:1        25-39   25.069    alive    none   belted        1   f        32   \n",
       "\n",
       "        Accident Year  YearVeh    Abcat    Role  Airbag Deploy  InjSeverity  \n",
       "CaseID                                                                       \n",
       "2:3:1            1997   1990.0  unavail  driver              0          3.0  \n",
       "2:3:2            1997   1995.0   deploy  driver              1          1.0  \n",
       "2:5:1            1997   1988.0  unavail  driver              0          4.0  \n",
       "2:10:1           1997   1995.0   deploy  driver              1          1.0  \n",
       "2:11:1           1997   1988.0  unavail  driver              0          3.0  "
      ]
     },
     "execution_count": 17,
     "metadata": {},
     "output_type": "execute_result"
    }
   ],
   "source": [
    "##Rename the Columns to make it more understandable\n",
    "\n",
    "nassCDS2 = nassCDS2.rename(columns = {\"dvcat\": \"Speed Impact\", \"weight\": \"Weight\", \"dead\": \"Fatality\", \"airbag\": \"AirBag\",\n",
    "                                     \"seatbelt\": \"Seatbelt\", \"frontal\": \"Frontal\", \"sex\": \"Sex\", \"ageOFocc\": \"Pass Age\",\n",
    "                                     \"yearacc\": \"Accident Year\", \"yearVeh\": \"YearVeh\", \"abcat\": \"Abcat\", \"occRole\": \"Role\",\n",
    "                                     \"deploy\": \"Airbag Deploy\", \"injSeverity\": \"InjSeverity\", \"caseid\": \"CaseID\"})\n",
    "\n",
    "nassCDS2.set_index(\"CaseID\", inplace = True)  ##Set \"CaesID\" as the index column\n",
    "\n",
    "nassCDS2.head(5)"
   ]
  },
  {
   "cell_type": "code",
   "execution_count": 9,
   "metadata": {},
   "outputs": [
    {
     "data": {
      "text/plain": [
       "10-24      0.490064\n",
       "1-9km/h    0.026166\n",
       "25-39      0.313308\n",
       "55+        0.056910\n",
       "40-54      0.113552\n",
       "Name: Speed Impact, dtype: float64"
      ]
     },
     "execution_count": 9,
     "metadata": {},
     "output_type": "execute_result"
    }
   ],
   "source": [
    "##Investigate all the categorical variables\n",
    "nassCDS2[\"Speed Impact\"].value_counts(sort = False, normalize = True)"
   ]
  },
  {
   "cell_type": "code",
   "execution_count": 10,
   "metadata": {},
   "outputs": [
    {
     "data": {
      "text/plain": [
       "alive    0.954991\n",
       "dead     0.045009\n",
       "Name: Fatality, dtype: float64"
      ]
     },
     "execution_count": 10,
     "metadata": {},
     "output_type": "execute_result"
    }
   ],
   "source": [
    "nassCDS2['Fatality'].value_counts(normalize = True)"
   ]
  },
  {
   "cell_type": "code",
   "execution_count": 11,
   "metadata": {},
   "outputs": [
    {
     "data": {
      "text/plain": [
       "belted    0.708433\n",
       "none      0.291567\n",
       "Name: Seatbelt, dtype: float64"
      ]
     },
     "execution_count": 11,
     "metadata": {},
     "output_type": "execute_result"
    }
   ],
   "source": [
    "nassCDS2['Seatbelt'].value_counts(sort = False, normalize = True)"
   ]
  },
  {
   "cell_type": "code",
   "execution_count": 17,
   "metadata": {},
   "outputs": [
    {
     "data": {
      "text/plain": [
       "0    0.662967\n",
       "1    0.337033\n",
       "Name: Airbag Deploy, dtype: float64"
      ]
     },
     "execution_count": 17,
     "metadata": {},
     "output_type": "execute_result"
    }
   ],
   "source": [
    "nassCDS2['Airbag Deploy'].value_counts(normalize = True)"
   ]
  },
  {
   "cell_type": "code",
   "execution_count": 18,
   "metadata": {},
   "outputs": [
    {
     "data": {
      "text/plain": [
       "driver    0.785788\n",
       "pass      0.214212\n",
       "Name: Role, dtype: float64"
      ]
     },
     "execution_count": 18,
     "metadata": {},
     "output_type": "execute_result"
    }
   ],
   "source": [
    "nassCDS2['Role'].value_counts(normalize = True)"
   ]
  },
  {
   "cell_type": "code",
   "execution_count": 19,
   "metadata": {},
   "outputs": [
    {
     "data": {
      "text/plain": [
       "m    0.532822\n",
       "f    0.467178\n",
       "Name: Sex, dtype: float64"
      ]
     },
     "execution_count": 19,
     "metadata": {},
     "output_type": "execute_result"
    }
   ],
   "source": [
    "nassCDS2['Sex'].value_counts(normalize = True)"
   ]
  },
  {
   "cell_type": "code",
   "execution_count": 20,
   "metadata": {},
   "outputs": [
    {
     "data": {
      "text/plain": [
       "unavail     0.450013\n",
       "deploy      0.337033\n",
       "nodeploy    0.212953\n",
       "Name: Abcat, dtype: float64"
      ]
     },
     "execution_count": 20,
     "metadata": {},
     "output_type": "execute_result"
    }
   ],
   "source": [
    "nassCDS2['Abcat'].value_counts(normalize = True)"
   ]
  },
  {
   "cell_type": "code",
   "execution_count": 21,
   "metadata": {},
   "outputs": [
    {
     "data": {
      "text/plain": [
       "airbag    0.549987\n",
       "none      0.450013\n",
       "Name: AirBag, dtype: float64"
      ]
     },
     "execution_count": 21,
     "metadata": {},
     "output_type": "execute_result"
    }
   ],
   "source": [
    "nassCDS2['AirBag'].value_counts(normalize = True)"
   ]
  },
  {
   "cell_type": "code",
   "execution_count": 11,
   "metadata": {},
   "outputs": [
    {
     "data": {
      "text/plain": [
       "<matplotlib.axes._subplots.AxesSubplot at 0x9981103cc0>"
      ]
     },
     "execution_count": 11,
     "metadata": {},
     "output_type": "execute_result"
    },
    {
     "data": {
      "image/png": "[encoded data removed]",
      "text/plain": [
       "<Figure size 432x432 with 1 Axes>"
      ]
     },
     "metadata": {
      "needs_background": "light"
     },
     "output_type": "display_data"
    }
   ],
   "source": [
    "##A Histogram of the 'Weight' variable..\n",
    "plt.figure(figsize = (6, 6))\n",
    "plt.xlim(0,4000)\n",
    "sns.distplot(nassCDS2['Weight'], color = 'red', bins = 50, hist_kws = {'alpha': 0.5})\n",
    "##To remove the Kernel density estimation, set the 'kde' argument to false"
   ]
  },
  {
   "cell_type": "code",
   "execution_count": 34,
   "metadata": {},
   "outputs": [
    {
     "data": {
      "text/plain": [
       "<seaborn.axisgrid.PairGrid at 0x88f8c13630>"
      ]
     },
     "execution_count": 34,
     "metadata": {},
     "output_type": "execute_result"
    },
    {
     "data": {
      "image/png": "[encoded data removed]",
      "text/plain": [
       "<Figure size 1260x1260 with 56 Axes>"
      ]
     },
     "metadata": {
      "needs_background": "light"
     },
     "output_type": "display_data"
    }
   ],
   "source": [
    "sns.pairplot(nassCDS2)"
   ]
  },
  {
   "cell_type": "code",
   "execution_count": 79,
   "metadata": {},
   "outputs": [
    {
     "data": {
      "text/html": [
       "<div>\n",
       "<style scoped>\n",
       "    .dataframe tbody tr th:only-of-type {\n",
       "        vertical-align: middle;\n",
       "    }\n",
       "\n",
       "    .dataframe tbody tr th {\n",
       "        vertical-align: top;\n",
       "    }\n",
       "\n",
       "    .dataframe thead th {\n",
       "        text-align: right;\n",
       "    }\n",
       "</style>\n",
       "<table border=\"1\" class=\"dataframe\">\n",
       "  <thead>\n",
       "    <tr style=\"text-align: right;\">\n",
       "      <th></th>\n",
       "      <th>Weight</th>\n",
       "      <th>Frontal</th>\n",
       "      <th>Pass Age</th>\n",
       "      <th>Accident Year</th>\n",
       "      <th>YearVeh</th>\n",
       "      <th>Airbag Deploy</th>\n",
       "      <th>InjSeverity</th>\n",
       "    </tr>\n",
       "  </thead>\n",
       "  <tbody>\n",
       "    <tr>\n",
       "      <th>Weight</th>\n",
       "      <td>1.000000</td>\n",
       "      <td>-0.009400</td>\n",
       "      <td>-0.030488</td>\n",
       "      <td>0.009643</td>\n",
       "      <td>-0.011289</td>\n",
       "      <td>-0.061727</td>\n",
       "      <td>-0.203043</td>\n",
       "    </tr>\n",
       "    <tr>\n",
       "      <th>Frontal</th>\n",
       "      <td>-0.009400</td>\n",
       "      <td>1.000000</td>\n",
       "      <td>-0.044253</td>\n",
       "      <td>0.014686</td>\n",
       "      <td>-0.028896</td>\n",
       "      <td>0.230715</td>\n",
       "      <td>-0.022693</td>\n",
       "    </tr>\n",
       "    <tr>\n",
       "      <th>Pass Age</th>\n",
       "      <td>-0.030488</td>\n",
       "      <td>-0.044253</td>\n",
       "      <td>1.000000</td>\n",
       "      <td>-0.006932</td>\n",
       "      <td>0.016451</td>\n",
       "      <td>0.008052</td>\n",
       "      <td>0.091336</td>\n",
       "    </tr>\n",
       "    <tr>\n",
       "      <th>Accident Year</th>\n",
       "      <td>0.009643</td>\n",
       "      <td>0.014686</td>\n",
       "      <td>-0.006932</td>\n",
       "      <td>1.000000</td>\n",
       "      <td>0.296406</td>\n",
       "      <td>0.120818</td>\n",
       "      <td>-0.041937</td>\n",
       "    </tr>\n",
       "    <tr>\n",
       "      <th>YearVeh</th>\n",
       "      <td>-0.011289</td>\n",
       "      <td>-0.028896</td>\n",
       "      <td>0.016451</td>\n",
       "      <td>0.296406</td>\n",
       "      <td>1.000000</td>\n",
       "      <td>0.481922</td>\n",
       "      <td>-0.076957</td>\n",
       "    </tr>\n",
       "    <tr>\n",
       "      <th>Airbag Deploy</th>\n",
       "      <td>-0.061727</td>\n",
       "      <td>0.230715</td>\n",
       "      <td>0.008052</td>\n",
       "      <td>0.120818</td>\n",
       "      <td>0.481922</td>\n",
       "      <td>1.000000</td>\n",
       "      <td>0.063642</td>\n",
       "    </tr>\n",
       "    <tr>\n",
       "      <th>InjSeverity</th>\n",
       "      <td>-0.203043</td>\n",
       "      <td>-0.022693</td>\n",
       "      <td>0.091336</td>\n",
       "      <td>-0.041937</td>\n",
       "      <td>-0.076957</td>\n",
       "      <td>0.063642</td>\n",
       "      <td>1.000000</td>\n",
       "    </tr>\n",
       "  </tbody>\n",
       "</table>\n",
       "</div>"
      ],
      "text/plain": [
       "                 Weight   Frontal  Pass Age  Accident Year   YearVeh  \\\n",
       "Weight         1.000000 -0.009400 -0.030488       0.009643 -0.011289   \n",
       "Frontal       -0.009400  1.000000 -0.044253       0.014686 -0.028896   \n",
       "Pass Age      -0.030488 -0.044253  1.000000      -0.006932  0.016451   \n",
       "Accident Year  0.009643  0.014686 -0.006932       1.000000  0.296406   \n",
       "YearVeh       -0.011289 -0.028896  0.016451       0.296406  1.000000   \n",
       "Airbag Deploy -0.061727  0.230715  0.008052       0.120818  0.481922   \n",
       "InjSeverity   -0.203043 -0.022693  0.091336      -0.041937 -0.076957   \n",
       "\n",
       "               Airbag Deploy  InjSeverity  \n",
       "Weight             -0.061727    -0.203043  \n",
       "Frontal             0.230715    -0.022693  \n",
       "Pass Age            0.008052     0.091336  \n",
       "Accident Year       0.120818    -0.041937  \n",
       "YearVeh             0.481922    -0.076957  \n",
       "Airbag Deploy       1.000000     0.063642  \n",
       "InjSeverity         0.063642     1.000000  "
      ]
     },
     "execution_count": 79,
     "metadata": {},
     "output_type": "execute_result"
    }
   ],
   "source": [
    " nassCDS2.corr()"
   ]
  },
  {
   "cell_type": "code",
   "execution_count": 18,
   "metadata": {},
   "outputs": [
    {
     "name": "stdout",
     "output_type": "stream",
     "text": [
      "332.2499999967408\n",
      "Lower Weight bound:  -465.90799999539803\n",
      "Upper Weight bound:  863.0919999915652\n"
     ]
    }
   ],
   "source": [
    "Q1 = nassCDS2['Weight'].quantile(0.25)\n",
    "Q3 = nassCDS2['Weight'].quantile(0.75)\n",
    "IQR = Q3 - Q1\n",
    "\n",
    "print(IQR)\n",
    "print(\"Lower Weight bound: \", Q1 - 1.5 * IQR)\n",
    "print(\"Upper Weight bound: \", Q3 + 1.5 * IQR)"
   ]
  },
  {
   "cell_type": "code",
   "execution_count": 19,
   "metadata": {},
   "outputs": [
    {
     "name": "stdout",
     "output_type": "stream",
     "text": [
      "14.310493861238584\n"
     ]
    }
   ],
   "source": [
    "##You can also ckeck for outliers uing the skewness value of of the variable. It should ideally be between -1(left) and +1(Right)\n",
    "## The higher the value in either direction the more extreme values present in the distribution\n",
    "print(nassCDS2['Weight'].skew())"
   ]
  },
  {
   "cell_type": "code",
   "execution_count": 20,
   "metadata": {},
   "outputs": [
    {
     "name": "stdout",
     "output_type": "stream",
     "text": [
      "(22824, 14)\n",
      "1.680127748905651\n"
     ]
    }
   ],
   "source": [
    "##Create a new variable nassCDS21 removing the outliers, erroneous and missing values\n",
    "nassCDS21 = nassCDS2[~((nassCDS2['Weight'] < (Q1 - 1.5 * IQR)) | (nassCDS2['Weight'] > (Q3 + 1.5 * IQR)))]\n",
    "nassCDS21 = nassCDS21[~((nassCDS21['Fatality'] == 'alive') & (nassCDS21['InjSeverity'] == 4.0))]\n",
    "##convert entries 5 and 6 in the 'InjSeverity' variable to missing values as to give to useful information\n",
    "nassCDS21['InjSeverity'] = nassCDS21['InjSeverity'].replace((5,6), np.nan)\n",
    "nassCDS21 = nassCDS21.dropna()\n",
    "print(nassCDS21.shape)\n",
    "print(nassCDS21['Weight'].skew())"
   ]
  },
  {
   "cell_type": "code",
   "execution_count": 15,
   "metadata": {},
   "outputs": [
    {
     "data": {
      "text/plain": [
       "<matplotlib.axes._subplots.AxesSubplot at 0x9981bf62b0>"
      ]
     },
     "execution_count": 15,
     "metadata": {},
     "output_type": "execute_result"
    },
    {
     "data": {
      "image/png": "[encoded data removed]",
      "text/plain": [
       "<Figure size 432x432 with 1 Axes>"
      ]
     },
     "metadata": {
      "needs_background": "light"
     },
     "output_type": "display_data"
    }
   ],
   "source": [
    "##Plot a histogram of the resulting 'Weight' variable\n",
    "plt.figure(figsize = (6, 6))\n",
    "#plt.xlim(0,4000)\n",
    "sns.distplot(nassCDS21['Weight'], color = 'blue', bins = 30, hist_kws = {'alpha': 0.5})"
   ]
  },
  {
   "cell_type": "code",
   "execution_count": 16,
   "metadata": {},
   "outputs": [
    {
     "data": {
      "text/plain": [
       "<matplotlib.axes._subplots.AxesSubplot at 0x99822022e8>"
      ]
     },
     "execution_count": 16,
     "metadata": {},
     "output_type": "execute_result"
    },
    {
     "data": {
      "image/png": "[encoded data removed]",
      "text/plain": [
       "<Figure size 432x288 with 1 Axes>"
      ]
     },
     "metadata": {
      "needs_background": "light"
     },
     "output_type": "display_data"
    }
   ],
   "source": [
    "sns.boxplot(nassCDS21['Weight'])"
   ]
  },
  {
   "cell_type": "code",
   "execution_count": 73,
   "metadata": {},
   "outputs": [
    {
     "data": {
      "text/plain": [
       "Speed Impact     0\n",
       "Weight           0\n",
       "Fatality         0\n",
       "AirBag           0\n",
       "Seatbelt         0\n",
       "Frontal          0\n",
       "Sex              0\n",
       "Pass Age         0\n",
       "Accident Year    0\n",
       "YearVeh          0\n",
       "Abcat            0\n",
       "Role             0\n",
       "Airbag Deploy    0\n",
       "InjSeverity      0\n",
       "dtype: int64"
      ]
     },
     "execution_count": 73,
     "metadata": {},
     "output_type": "execute_result"
    }
   ],
   "source": [
    "##Check again for the benefit of doubt for missing values\n",
    "nassCDS21.isnull().sum()"
   ]
  },
  {
   "cell_type": "code",
   "execution_count": 21,
   "metadata": {},
   "outputs": [
    {
     "data": {
      "text/html": [
       "<div>\n",
       "<style scoped>\n",
       "    .dataframe tbody tr th:only-of-type {\n",
       "        vertical-align: middle;\n",
       "    }\n",
       "\n",
       "    .dataframe tbody tr th {\n",
       "        vertical-align: top;\n",
       "    }\n",
       "\n",
       "    .dataframe thead th {\n",
       "        text-align: right;\n",
       "    }\n",
       "</style>\n",
       "<table border=\"1\" class=\"dataframe\">\n",
       "  <thead>\n",
       "    <tr style=\"text-align: right;\">\n",
       "      <th></th>\n",
       "      <th>Speed Impact</th>\n",
       "      <th>Weight</th>\n",
       "      <th>Fatality</th>\n",
       "      <th>AirBag</th>\n",
       "      <th>Seatbelt</th>\n",
       "      <th>Frontal</th>\n",
       "      <th>Sex</th>\n",
       "      <th>Pass Age</th>\n",
       "      <th>Accident Year</th>\n",
       "      <th>YearVeh</th>\n",
       "      <th>Abcat</th>\n",
       "      <th>Role</th>\n",
       "      <th>Airbag Deploy</th>\n",
       "      <th>InjSeverity</th>\n",
       "    </tr>\n",
       "    <tr>\n",
       "      <th>CaseID</th>\n",
       "      <th></th>\n",
       "      <th></th>\n",
       "      <th></th>\n",
       "      <th></th>\n",
       "      <th></th>\n",
       "      <th></th>\n",
       "      <th></th>\n",
       "      <th></th>\n",
       "      <th></th>\n",
       "      <th></th>\n",
       "      <th></th>\n",
       "      <th></th>\n",
       "      <th></th>\n",
       "      <th></th>\n",
       "    </tr>\n",
       "  </thead>\n",
       "  <tbody>\n",
       "    <tr>\n",
       "      <th>2:3:1</th>\n",
       "      <td>25-39</td>\n",
       "      <td>25.069</td>\n",
       "      <td>alive</td>\n",
       "      <td>none</td>\n",
       "      <td>belted</td>\n",
       "      <td>1</td>\n",
       "      <td>f</td>\n",
       "      <td>26</td>\n",
       "      <td>1997</td>\n",
       "      <td>1990.0</td>\n",
       "      <td>unavail</td>\n",
       "      <td>driver</td>\n",
       "      <td>0</td>\n",
       "      <td>3.0</td>\n",
       "    </tr>\n",
       "    <tr>\n",
       "      <th>2:3:2</th>\n",
       "      <td>10-24</td>\n",
       "      <td>25.069</td>\n",
       "      <td>alive</td>\n",
       "      <td>airbag</td>\n",
       "      <td>belted</td>\n",
       "      <td>1</td>\n",
       "      <td>f</td>\n",
       "      <td>72</td>\n",
       "      <td>1997</td>\n",
       "      <td>1995.0</td>\n",
       "      <td>deploy</td>\n",
       "      <td>driver</td>\n",
       "      <td>1</td>\n",
       "      <td>1.0</td>\n",
       "    </tr>\n",
       "    <tr>\n",
       "      <th>2:10:1</th>\n",
       "      <td>25-39</td>\n",
       "      <td>495.444</td>\n",
       "      <td>alive</td>\n",
       "      <td>airbag</td>\n",
       "      <td>belted</td>\n",
       "      <td>1</td>\n",
       "      <td>f</td>\n",
       "      <td>53</td>\n",
       "      <td>1997</td>\n",
       "      <td>1995.0</td>\n",
       "      <td>deploy</td>\n",
       "      <td>driver</td>\n",
       "      <td>1</td>\n",
       "      <td>1.0</td>\n",
       "    </tr>\n",
       "    <tr>\n",
       "      <th>2:11:1</th>\n",
       "      <td>25-39</td>\n",
       "      <td>25.069</td>\n",
       "      <td>alive</td>\n",
       "      <td>none</td>\n",
       "      <td>belted</td>\n",
       "      <td>1</td>\n",
       "      <td>f</td>\n",
       "      <td>32</td>\n",
       "      <td>1997</td>\n",
       "      <td>1988.0</td>\n",
       "      <td>unavail</td>\n",
       "      <td>driver</td>\n",
       "      <td>0</td>\n",
       "      <td>3.0</td>\n",
       "    </tr>\n",
       "    <tr>\n",
       "      <th>2:11:2</th>\n",
       "      <td>40-54</td>\n",
       "      <td>25.069</td>\n",
       "      <td>alive</td>\n",
       "      <td>none</td>\n",
       "      <td>belted</td>\n",
       "      <td>1</td>\n",
       "      <td>f</td>\n",
       "      <td>22</td>\n",
       "      <td>1997</td>\n",
       "      <td>1985.0</td>\n",
       "      <td>unavail</td>\n",
       "      <td>driver</td>\n",
       "      <td>0</td>\n",
       "      <td>3.0</td>\n",
       "    </tr>\n",
       "    <tr>\n",
       "      <th>2:13:1</th>\n",
       "      <td>55+</td>\n",
       "      <td>27.078</td>\n",
       "      <td>alive</td>\n",
       "      <td>none</td>\n",
       "      <td>belted</td>\n",
       "      <td>1</td>\n",
       "      <td>m</td>\n",
       "      <td>22</td>\n",
       "      <td>1997</td>\n",
       "      <td>1984.0</td>\n",
       "      <td>unavail</td>\n",
       "      <td>driver</td>\n",
       "      <td>0</td>\n",
       "      <td>3.0</td>\n",
       "    </tr>\n",
       "    <tr>\n",
       "      <th>2:13:2</th>\n",
       "      <td>55+</td>\n",
       "      <td>27.078</td>\n",
       "      <td>dead</td>\n",
       "      <td>none</td>\n",
       "      <td>none</td>\n",
       "      <td>1</td>\n",
       "      <td>m</td>\n",
       "      <td>32</td>\n",
       "      <td>1997</td>\n",
       "      <td>1987.0</td>\n",
       "      <td>unavail</td>\n",
       "      <td>driver</td>\n",
       "      <td>0</td>\n",
       "      <td>4.0</td>\n",
       "    </tr>\n",
       "    <tr>\n",
       "      <th>2:14:1</th>\n",
       "      <td>10-24</td>\n",
       "      <td>812.869</td>\n",
       "      <td>alive</td>\n",
       "      <td>none</td>\n",
       "      <td>belted</td>\n",
       "      <td>0</td>\n",
       "      <td>m</td>\n",
       "      <td>40</td>\n",
       "      <td>1997</td>\n",
       "      <td>1984.0</td>\n",
       "      <td>unavail</td>\n",
       "      <td>driver</td>\n",
       "      <td>0</td>\n",
       "      <td>1.0</td>\n",
       "    </tr>\n",
       "    <tr>\n",
       "      <th>2:14:2</th>\n",
       "      <td>10-24</td>\n",
       "      <td>812.869</td>\n",
       "      <td>alive</td>\n",
       "      <td>none</td>\n",
       "      <td>belted</td>\n",
       "      <td>1</td>\n",
       "      <td>f</td>\n",
       "      <td>18</td>\n",
       "      <td>1997</td>\n",
       "      <td>1987.0</td>\n",
       "      <td>unavail</td>\n",
       "      <td>driver</td>\n",
       "      <td>0</td>\n",
       "      <td>0.0</td>\n",
       "    </tr>\n",
       "    <tr>\n",
       "      <th>2:14:2</th>\n",
       "      <td>10-24</td>\n",
       "      <td>812.869</td>\n",
       "      <td>alive</td>\n",
       "      <td>none</td>\n",
       "      <td>belted</td>\n",
       "      <td>1</td>\n",
       "      <td>m</td>\n",
       "      <td>21</td>\n",
       "      <td>1997</td>\n",
       "      <td>1987.0</td>\n",
       "      <td>unavail</td>\n",
       "      <td>pass</td>\n",
       "      <td>0</td>\n",
       "      <td>0.0</td>\n",
       "    </tr>\n",
       "  </tbody>\n",
       "</table>\n",
       "</div>"
      ],
      "text/plain": [
       "       Speed Impact   Weight Fatality  AirBag Seatbelt  Frontal Sex  Pass Age  \\\n",
       "CaseID                                                                          \n",
       "2:3:1         25-39   25.069    alive    none   belted        1   f        26   \n",
       "2:3:2         10-24   25.069    alive  airbag   belted        1   f        72   \n",
       "2:10:1        25-39  495.444    alive  airbag   belted        1   f        53   \n",
       "2:11:1        25-39   25.069    alive    none   belted        1   f        32   \n",
       "2:11:2        40-54   25.069    alive    none   belted        1   f        22   \n",
       "2:13:1          55+   27.078    alive    none   belted        1   m        22   \n",
       "2:13:2          55+   27.078     dead    none     none        1   m        32   \n",
       "2:14:1        10-24  812.869    alive    none   belted        0   m        40   \n",
       "2:14:2        10-24  812.869    alive    none   belted        1   f        18   \n",
       "2:14:2        10-24  812.869    alive    none   belted        1   m        21   \n",
       "\n",
       "        Accident Year  YearVeh    Abcat    Role  Airbag Deploy  InjSeverity  \n",
       "CaseID                                                                       \n",
       "2:3:1            1997   1990.0  unavail  driver              0          3.0  \n",
       "2:3:2            1997   1995.0   deploy  driver              1          1.0  \n",
       "2:10:1           1997   1995.0   deploy  driver              1          1.0  \n",
       "2:11:1           1997   1988.0  unavail  driver              0          3.0  \n",
       "2:11:2           1997   1985.0  unavail  driver              0          3.0  \n",
       "2:13:1           1997   1984.0  unavail  driver              0          3.0  \n",
       "2:13:2           1997   1987.0  unavail  driver              0          4.0  \n",
       "2:14:1           1997   1984.0  unavail  driver              0          1.0  \n",
       "2:14:2           1997   1987.0  unavail  driver              0          0.0  \n",
       "2:14:2           1997   1987.0  unavail    pass              0          0.0  "
      ]
     },
     "execution_count": 21,
     "metadata": {},
     "output_type": "execute_result"
    }
   ],
   "source": [
    "nassCDS21.head(10)"
   ]
  },
  {
   "cell_type": "code",
   "execution_count": 17,
   "metadata": {},
   "outputs": [
    {
     "data": {
      "text/html": [
       "<div>\n",
       "<style scoped>\n",
       "    .dataframe tbody tr th:only-of-type {\n",
       "        vertical-align: middle;\n",
       "    }\n",
       "\n",
       "    .dataframe tbody tr th {\n",
       "        vertical-align: top;\n",
       "    }\n",
       "\n",
       "    .dataframe thead th {\n",
       "        text-align: right;\n",
       "    }\n",
       "</style>\n",
       "<table border=\"1\" class=\"dataframe\">\n",
       "  <thead>\n",
       "    <tr style=\"text-align: right;\">\n",
       "      <th></th>\n",
       "      <th>Column Name</th>\n",
       "      <th>Num_Unique</th>\n",
       "    </tr>\n",
       "  </thead>\n",
       "  <tbody>\n",
       "    <tr>\n",
       "      <th>2</th>\n",
       "      <td>Fatality</td>\n",
       "      <td>2</td>\n",
       "    </tr>\n",
       "    <tr>\n",
       "      <th>3</th>\n",
       "      <td>AirBag</td>\n",
       "      <td>2</td>\n",
       "    </tr>\n",
       "    <tr>\n",
       "      <th>4</th>\n",
       "      <td>Seatbelt</td>\n",
       "      <td>2</td>\n",
       "    </tr>\n",
       "    <tr>\n",
       "      <th>5</th>\n",
       "      <td>Frontal</td>\n",
       "      <td>2</td>\n",
       "    </tr>\n",
       "    <tr>\n",
       "      <th>6</th>\n",
       "      <td>Sex</td>\n",
       "      <td>2</td>\n",
       "    </tr>\n",
       "    <tr>\n",
       "      <th>11</th>\n",
       "      <td>Role</td>\n",
       "      <td>2</td>\n",
       "    </tr>\n",
       "    <tr>\n",
       "      <th>12</th>\n",
       "      <td>Airbag Deploy</td>\n",
       "      <td>2</td>\n",
       "    </tr>\n",
       "    <tr>\n",
       "      <th>10</th>\n",
       "      <td>Abcat</td>\n",
       "      <td>3</td>\n",
       "    </tr>\n",
       "    <tr>\n",
       "      <th>0</th>\n",
       "      <td>Speed Impact</td>\n",
       "      <td>5</td>\n",
       "    </tr>\n",
       "    <tr>\n",
       "      <th>13</th>\n",
       "      <td>InjSeverity</td>\n",
       "      <td>5</td>\n",
       "    </tr>\n",
       "    <tr>\n",
       "      <th>8</th>\n",
       "      <td>Accident Year</td>\n",
       "      <td>6</td>\n",
       "    </tr>\n",
       "    <tr>\n",
       "      <th>9</th>\n",
       "      <td>YearVeh</td>\n",
       "      <td>45</td>\n",
       "    </tr>\n",
       "    <tr>\n",
       "      <th>7</th>\n",
       "      <td>Pass Age</td>\n",
       "      <td>82</td>\n",
       "    </tr>\n",
       "    <tr>\n",
       "      <th>1</th>\n",
       "      <td>Weight</td>\n",
       "      <td>8172</td>\n",
       "    </tr>\n",
       "  </tbody>\n",
       "</table>\n",
       "</div>"
      ],
      "text/plain": [
       "      Column Name  Num_Unique\n",
       "2        Fatality           2\n",
       "3          AirBag           2\n",
       "4        Seatbelt           2\n",
       "5         Frontal           2\n",
       "6             Sex           2\n",
       "11           Role           2\n",
       "12  Airbag Deploy           2\n",
       "10          Abcat           3\n",
       "0    Speed Impact           5\n",
       "13    InjSeverity           5\n",
       "8   Accident Year           6\n",
       "9         YearVeh          45\n",
       "7        Pass Age          82\n",
       "1          Weight        8172"
      ]
     },
     "execution_count": 17,
     "metadata": {},
     "output_type": "execute_result"
    }
   ],
   "source": [
    "unique_counts = nassCDS21.from_records([(col, nassCDS21[col].nunique()) for col in nassCDS21.columns],\n",
    "                                      columns = ['Column Name', 'Num_Unique']).sort_values(by = ['Num_Unique'])\n",
    "unique_counts"
   ]
  },
  {
   "cell_type": "code",
   "execution_count": 22,
   "metadata": {},
   "outputs": [],
   "source": [
    "##Convert some of the variables to categorical\n",
    "from pandas.api.types import CategoricalDtype\n",
    "status_type = CategoricalDtype(categories = ['1-9km/h', '10-24', '25-39', '40-54', '55+'], ordered = True)\n",
    "nassCDS21['Speed Impact'] = nassCDS21['Speed Impact'].astype(status_type)\n",
    "\n",
    "nassCDS21 = nassCDS21.astype({\"Fatality\": 'category', \"AirBag\": 'category', \"Seatbelt\": 'category',\n",
    "                             \"Frontal\": 'category', \"Sex\": 'category', \"YearVeh\": 'int64',\n",
    "                             \"Role\": 'category', \"Airbag Deploy\": 'category', \"InjSeverity\": 'category'})\n",
    "#####OR#####\n",
    "\n",
    "#nassCDS21['Fatality'] = nassCDS21['Fatality'].astype('category')\n",
    "#nassCDS21['Airbag'] = nassCDS21['Airbag'].astype('category')\n",
    "#nassCDS21['Seatbelt'] = nassCDS21['Seatbelt'].astype('category')\n",
    "#nassCDS21['Frontal'] = nassCDS21['Frontal'].astype('category')\n",
    "#nassCDS21['Sex'] = nassCDS21['Sex'].astype('category')\n",
    "#nassCDS21['Abcat'] = nassCDS21['Abcat'].astype('category')\n",
    "#nassCDS21['Role'] = nassCDS21['Role'].astype('category')\n",
    "#nassCDS21['Airbag Deploy'] = nassCDS21['Airbag Deploy'].astype('category')\n",
    "#nassCDS21['InjSeverity'] = nassCDS21['InjSeverity'].astype('category')"
   ]
  },
  {
   "cell_type": "code",
   "execution_count": 23,
   "metadata": {},
   "outputs": [
    {
     "data": {
      "text/plain": [
       "Speed Impact     category\n",
       "Weight            float64\n",
       "Fatality         category\n",
       "AirBag           category\n",
       "Seatbelt         category\n",
       "Frontal          category\n",
       "Sex              category\n",
       "Pass Age            int64\n",
       "Accident Year       int64\n",
       "YearVeh             int64\n",
       "Abcat              object\n",
       "Role             category\n",
       "Airbag Deploy    category\n",
       "InjSeverity      category\n",
       "dtype: object"
      ]
     },
     "execution_count": 23,
     "metadata": {},
     "output_type": "execute_result"
    }
   ],
   "source": [
    "\n",
    "nassCDS21.dtypes"
   ]
  },
  {
   "cell_type": "code",
   "execution_count": 20,
   "metadata": {},
   "outputs": [
    {
     "data": {
      "text/html": [
       "<div>\n",
       "<style scoped>\n",
       "    .dataframe tbody tr th:only-of-type {\n",
       "        vertical-align: middle;\n",
       "    }\n",
       "\n",
       "    .dataframe tbody tr th {\n",
       "        vertical-align: top;\n",
       "    }\n",
       "\n",
       "    .dataframe thead th {\n",
       "        text-align: right;\n",
       "    }\n",
       "</style>\n",
       "<table border=\"1\" class=\"dataframe\">\n",
       "  <thead>\n",
       "    <tr style=\"text-align: right;\">\n",
       "      <th>Seatbelt</th>\n",
       "      <th>belted</th>\n",
       "      <th>none</th>\n",
       "      <th>All</th>\n",
       "    </tr>\n",
       "    <tr>\n",
       "      <th>Fatality</th>\n",
       "      <th></th>\n",
       "      <th></th>\n",
       "      <th></th>\n",
       "    </tr>\n",
       "  </thead>\n",
       "  <tbody>\n",
       "    <tr>\n",
       "      <th>alive</th>\n",
       "      <td>0.671837</td>\n",
       "      <td>0.276639</td>\n",
       "      <td>0.948475</td>\n",
       "    </tr>\n",
       "    <tr>\n",
       "      <th>dead</th>\n",
       "      <td>0.021819</td>\n",
       "      <td>0.029706</td>\n",
       "      <td>0.051525</td>\n",
       "    </tr>\n",
       "    <tr>\n",
       "      <th>All</th>\n",
       "      <td>0.693656</td>\n",
       "      <td>0.306344</td>\n",
       "      <td>1.000000</td>\n",
       "    </tr>\n",
       "  </tbody>\n",
       "</table>\n",
       "</div>"
      ],
      "text/plain": [
       "Seatbelt    belted      none       All\n",
       "Fatality                              \n",
       "alive     0.671837  0.276639  0.948475\n",
       "dead      0.021819  0.029706  0.051525\n",
       "All       0.693656  0.306344  1.000000"
      ]
     },
     "execution_count": 20,
     "metadata": {},
     "output_type": "execute_result"
    }
   ],
   "source": [
    "pd.crosstab(nassCDS21['Fatality'],nassCDS21['Seatbelt'] ,normalize = True, margins = True)"
   ]
  },
  {
   "cell_type": "markdown",
   "metadata": {},
   "source": [
    "###### The above output shows a strong positive correlation between use of seatbelts and chances of surviving a car crash. 69.37% of the sample used seatbelts at the time of the crash out of which approximately 97% survived. However the result also shows a weak positive correlation between not using a seatbelt and chances of survival. 30.63% of the sample did not use a seatbelt at the time of the crash out of which 90.3% survived. This suggests that there could be other factors responsible for the survival of those without seatbelts"
   ]
  },
  {
   "cell_type": "code",
   "execution_count": 21,
   "metadata": {},
   "outputs": [
    {
     "data": {
      "text/html": [
       "<div>\n",
       "<style scoped>\n",
       "    .dataframe tbody tr th:only-of-type {\n",
       "        vertical-align: middle;\n",
       "    }\n",
       "\n",
       "    .dataframe tbody tr th {\n",
       "        vertical-align: top;\n",
       "    }\n",
       "\n",
       "    .dataframe thead th {\n",
       "        text-align: right;\n",
       "    }\n",
       "</style>\n",
       "<table border=\"1\" class=\"dataframe\">\n",
       "  <thead>\n",
       "    <tr style=\"text-align: right;\">\n",
       "      <th>Airbag Deploy</th>\n",
       "      <th>0</th>\n",
       "      <th>1</th>\n",
       "      <th>All</th>\n",
       "    </tr>\n",
       "    <tr>\n",
       "      <th>InjSeverity</th>\n",
       "      <th></th>\n",
       "      <th></th>\n",
       "      <th></th>\n",
       "    </tr>\n",
       "  </thead>\n",
       "  <tbody>\n",
       "    <tr>\n",
       "      <th>0.0</th>\n",
       "      <td>0.149273</td>\n",
       "      <td>0.057878</td>\n",
       "      <td>0.207150</td>\n",
       "    </tr>\n",
       "    <tr>\n",
       "      <th>1.0</th>\n",
       "      <td>0.136304</td>\n",
       "      <td>0.077550</td>\n",
       "      <td>0.213854</td>\n",
       "    </tr>\n",
       "    <tr>\n",
       "      <th>2.0</th>\n",
       "      <td>0.096346</td>\n",
       "      <td>0.070803</td>\n",
       "      <td>0.167149</td>\n",
       "    </tr>\n",
       "    <tr>\n",
       "      <th>3.0</th>\n",
       "      <td>0.234709</td>\n",
       "      <td>0.129688</td>\n",
       "      <td>0.364397</td>\n",
       "    </tr>\n",
       "    <tr>\n",
       "      <th>4.0</th>\n",
       "      <td>0.033035</td>\n",
       "      <td>0.014415</td>\n",
       "      <td>0.047450</td>\n",
       "    </tr>\n",
       "    <tr>\n",
       "      <th>All</th>\n",
       "      <td>0.649667</td>\n",
       "      <td>0.350333</td>\n",
       "      <td>1.000000</td>\n",
       "    </tr>\n",
       "  </tbody>\n",
       "</table>\n",
       "</div>"
      ],
      "text/plain": [
       "Airbag Deploy         0         1       All\n",
       "InjSeverity                                \n",
       "0.0            0.149273  0.057878  0.207150\n",
       "1.0            0.136304  0.077550  0.213854\n",
       "2.0            0.096346  0.070803  0.167149\n",
       "3.0            0.234709  0.129688  0.364397\n",
       "4.0            0.033035  0.014415  0.047450\n",
       "All            0.649667  0.350333  1.000000"
      ]
     },
     "execution_count": 21,
     "metadata": {},
     "output_type": "execute_result"
    }
   ],
   "source": [
    "pd.crosstab(nassCDS21['InjSeverity'], nassCDS21['Airbag Deploy'], normalize = True, margins = True)"
   ]
  },
  {
   "cell_type": "markdown",
   "metadata": {},
   "source": [
    "##### The above shows the extent to which working Airbags helped in prevent serious injuries or fatalities from a crash. Injury severity is coded 0(no injury), 1(possible injury), 2(no disability), 3(disability) and 4(death) as fallouts of a crash. Airbags which were wither unavailable or didnt deploy at the time of the crash were coded 0 and 1 for deployment.\n",
    "##### From the output above it can be deduced that safe deployment of Air bags during a crash could significant reduce chances of injury, disability or death from a car accident. Of the 20.71% of the total sample came out of a crash with no injuries, 27.9% of them had their airbags safely deployed. 63.74% of those who possibly sustained injuries, 57.64% of those who were injured but didnt suffer permanent disability, 64.41% of those that suffered permanent disability and 69.62% of those that suffered permanent disability as a result of the car accident either had no airbag or it didnt deploy"
   ]
  },
  {
   "cell_type": "code",
   "execution_count": 22,
   "metadata": {},
   "outputs": [
    {
     "data": {
      "text/html": [
       "<div>\n",
       "<style scoped>\n",
       "    .dataframe tbody tr th:only-of-type {\n",
       "        vertical-align: middle;\n",
       "    }\n",
       "\n",
       "    .dataframe tbody tr th {\n",
       "        vertical-align: top;\n",
       "    }\n",
       "\n",
       "    .dataframe thead th {\n",
       "        text-align: right;\n",
       "    }\n",
       "</style>\n",
       "<table border=\"1\" class=\"dataframe\">\n",
       "  <thead>\n",
       "    <tr style=\"text-align: right;\">\n",
       "      <th>Speed Impact</th>\n",
       "      <th>1-9km/h</th>\n",
       "      <th>10-24</th>\n",
       "      <th>25-39</th>\n",
       "      <th>40-54</th>\n",
       "      <th>55+</th>\n",
       "      <th>All</th>\n",
       "    </tr>\n",
       "    <tr>\n",
       "      <th>Fatality</th>\n",
       "      <th></th>\n",
       "      <th></th>\n",
       "      <th></th>\n",
       "      <th></th>\n",
       "      <th></th>\n",
       "      <th></th>\n",
       "    </tr>\n",
       "  </thead>\n",
       "  <tbody>\n",
       "    <tr>\n",
       "      <th>alive</th>\n",
       "      <td>0.021951</td>\n",
       "      <td>0.457326</td>\n",
       "      <td>0.313661</td>\n",
       "      <td>0.109578</td>\n",
       "      <td>0.045960</td>\n",
       "      <td>0.948475</td>\n",
       "    </tr>\n",
       "    <tr>\n",
       "      <th>dead</th>\n",
       "      <td>0.000131</td>\n",
       "      <td>0.004995</td>\n",
       "      <td>0.013188</td>\n",
       "      <td>0.015072</td>\n",
       "      <td>0.018139</td>\n",
       "      <td>0.051525</td>\n",
       "    </tr>\n",
       "    <tr>\n",
       "      <th>All</th>\n",
       "      <td>0.022082</td>\n",
       "      <td>0.462320</td>\n",
       "      <td>0.326849</td>\n",
       "      <td>0.124649</td>\n",
       "      <td>0.064099</td>\n",
       "      <td>1.000000</td>\n",
       "    </tr>\n",
       "  </tbody>\n",
       "</table>\n",
       "</div>"
      ],
      "text/plain": [
       "Speed Impact   1-9km/h     10-24     25-39     40-54       55+       All\n",
       "Fatality                                                                \n",
       "alive         0.021951  0.457326  0.313661  0.109578  0.045960  0.948475\n",
       "dead          0.000131  0.004995  0.013188  0.015072  0.018139  0.051525\n",
       "All           0.022082  0.462320  0.326849  0.124649  0.064099  1.000000"
      ]
     },
     "execution_count": 22,
     "metadata": {},
     "output_type": "execute_result"
    }
   ],
   "source": [
    "pd.crosstab(nassCDS21['Fatality'],nassCDS21['Speed Impact'] ,normalize = True, margins = True)"
   ]
  },
  {
   "cell_type": "markdown",
   "metadata": {},
   "source": [
    "##### There is a connection between Speed on Impact and Fatality rate. As Speed Impact increased from ranges 1-9km/hr, 10-24km/hr, 25-39km/hr, 40-54km/hr and 55+km/hr, fatality rate were 0.59%, 1.08%, 4.04%,12.09% and 28.3% respectively. This suggests that fatality rate increases as speed on impact increases.  "
   ]
  },
  {
   "cell_type": "code",
   "execution_count": 89,
   "metadata": {},
   "outputs": [
    {
     "data": {
      "text/html": [
       "<div>\n",
       "<style scoped>\n",
       "    .dataframe tbody tr th:only-of-type {\n",
       "        vertical-align: middle;\n",
       "    }\n",
       "\n",
       "    .dataframe tbody tr th {\n",
       "        vertical-align: top;\n",
       "    }\n",
       "\n",
       "    .dataframe thead th {\n",
       "        text-align: right;\n",
       "    }\n",
       "</style>\n",
       "<table border=\"1\" class=\"dataframe\">\n",
       "  <thead>\n",
       "    <tr style=\"text-align: right;\">\n",
       "      <th></th>\n",
       "      <th>Role</th>\n",
       "      <th>driver</th>\n",
       "      <th>pass</th>\n",
       "      <th>All</th>\n",
       "    </tr>\n",
       "    <tr>\n",
       "      <th>Fatality</th>\n",
       "      <th>Airbag Deploy</th>\n",
       "      <th></th>\n",
       "      <th></th>\n",
       "      <th></th>\n",
       "    </tr>\n",
       "  </thead>\n",
       "  <tbody>\n",
       "    <tr>\n",
       "      <th rowspan=\"2\" valign=\"top\">alive</th>\n",
       "      <th>0</th>\n",
       "      <td>0.467227</td>\n",
       "      <td>0.146994</td>\n",
       "      <td>0.614222</td>\n",
       "    </tr>\n",
       "    <tr>\n",
       "      <th>1</th>\n",
       "      <td>0.279224</td>\n",
       "      <td>0.055030</td>\n",
       "      <td>0.334253</td>\n",
       "    </tr>\n",
       "    <tr>\n",
       "      <th rowspan=\"2\" valign=\"top\">dead</th>\n",
       "      <th>0</th>\n",
       "      <td>0.026288</td>\n",
       "      <td>0.009157</td>\n",
       "      <td>0.035445</td>\n",
       "    </tr>\n",
       "    <tr>\n",
       "      <th>1</th>\n",
       "      <td>0.012618</td>\n",
       "      <td>0.003461</td>\n",
       "      <td>0.016080</td>\n",
       "    </tr>\n",
       "    <tr>\n",
       "      <th>All</th>\n",
       "      <th></th>\n",
       "      <td>0.785358</td>\n",
       "      <td>0.214642</td>\n",
       "      <td>1.000000</td>\n",
       "    </tr>\n",
       "  </tbody>\n",
       "</table>\n",
       "</div>"
      ],
      "text/plain": [
       "Role                      driver      pass       All\n",
       "Fatality Airbag Deploy                              \n",
       "alive    0              0.467227  0.146994  0.614222\n",
       "         1              0.279224  0.055030  0.334253\n",
       "dead     0              0.026288  0.009157  0.035445\n",
       "         1              0.012618  0.003461  0.016080\n",
       "All                     0.785358  0.214642  1.000000"
      ]
     },
     "execution_count": 89,
     "metadata": {},
     "output_type": "execute_result"
    }
   ],
   "source": [
    "pd.crosstab([nassCDS21['Fatality'], nassCDS21['Airbag Deploy']],nassCDS21['Role'] ,normalize = True, margins = True)"
   ]
  },
  {
   "cell_type": "markdown",
   "metadata": {},
   "source": [
    "##### Drivers were more of the fatalities among those involved in car crashes especially among those whose airbags didnt deploy as they accounted for 74.17% of the deaths in that category. Also among those with their airbags safely deployed the accounted for 78.47% of the deaths."
   ]
  },
  {
   "cell_type": "code",
   "execution_count": 23,
   "metadata": {},
   "outputs": [
    {
     "data": {
      "text/html": [
       "<div>\n",
       "<style scoped>\n",
       "    .dataframe tbody tr th:only-of-type {\n",
       "        vertical-align: middle;\n",
       "    }\n",
       "\n",
       "    .dataframe tbody tr th {\n",
       "        vertical-align: top;\n",
       "    }\n",
       "\n",
       "    .dataframe thead th {\n",
       "        text-align: right;\n",
       "    }\n",
       "</style>\n",
       "<table border=\"1\" class=\"dataframe\">\n",
       "  <thead>\n",
       "    <tr style=\"text-align: right;\">\n",
       "      <th>Sex</th>\n",
       "      <th>f</th>\n",
       "      <th>m</th>\n",
       "      <th>All</th>\n",
       "    </tr>\n",
       "    <tr>\n",
       "      <th>Fatality</th>\n",
       "      <th></th>\n",
       "      <th></th>\n",
       "      <th></th>\n",
       "    </tr>\n",
       "  </thead>\n",
       "  <tbody>\n",
       "    <tr>\n",
       "      <th>alive</th>\n",
       "      <td>0.444751</td>\n",
       "      <td>0.503724</td>\n",
       "      <td>0.948475</td>\n",
       "    </tr>\n",
       "    <tr>\n",
       "      <th>dead</th>\n",
       "      <td>0.020286</td>\n",
       "      <td>0.031239</td>\n",
       "      <td>0.051525</td>\n",
       "    </tr>\n",
       "    <tr>\n",
       "      <th>All</th>\n",
       "      <td>0.465037</td>\n",
       "      <td>0.534963</td>\n",
       "      <td>1.000000</td>\n",
       "    </tr>\n",
       "  </tbody>\n",
       "</table>\n",
       "</div>"
      ],
      "text/plain": [
       "Sex              f         m       All\n",
       "Fatality                              \n",
       "alive     0.444751  0.503724  0.948475\n",
       "dead      0.020286  0.031239  0.051525\n",
       "All       0.465037  0.534963  1.000000"
      ]
     },
     "execution_count": 23,
     "metadata": {},
     "output_type": "execute_result"
    }
   ],
   "source": [
    "pd.crosstab(nassCDS21['Fatality'], nassCDS21['Sex'], normalize = True, margins = True)"
   ]
  },
  {
   "cell_type": "markdown",
   "metadata": {},
   "source": [
    "#### Male casualties were marginally higher than Females. Of the approximately 5.15% who were killed in these accidents, 60.63% were male while 39.37% were female"
   ]
  },
  {
   "cell_type": "code",
   "execution_count": 45,
   "metadata": {},
   "outputs": [
    {
     "data": {
      "text/html": [
       "<div>\n",
       "<style scoped>\n",
       "    .dataframe tbody tr th:only-of-type {\n",
       "        vertical-align: middle;\n",
       "    }\n",
       "\n",
       "    .dataframe tbody tr th {\n",
       "        vertical-align: top;\n",
       "    }\n",
       "\n",
       "    .dataframe thead th {\n",
       "        text-align: right;\n",
       "    }\n",
       "</style>\n",
       "<table border=\"1\" class=\"dataframe\">\n",
       "  <thead>\n",
       "    <tr style=\"text-align: right;\">\n",
       "      <th></th>\n",
       "      <th>Pass Age</th>\n",
       "    </tr>\n",
       "    <tr>\n",
       "      <th>Fatality</th>\n",
       "      <th></th>\n",
       "    </tr>\n",
       "  </thead>\n",
       "  <tbody>\n",
       "    <tr>\n",
       "      <th>alive</th>\n",
       "      <td>21648</td>\n",
       "    </tr>\n",
       "    <tr>\n",
       "      <th>dead</th>\n",
       "      <td>1176</td>\n",
       "    </tr>\n",
       "  </tbody>\n",
       "</table>\n",
       "</div>"
      ],
      "text/plain": [
       "          Pass Age\n",
       "Fatality          \n",
       "alive        21648\n",
       "dead          1176"
      ]
     },
     "execution_count": 45,
     "metadata": {},
     "output_type": "execute_result"
    }
   ],
   "source": [
    "##Find the number of fatalities based on the Passenger Age variable\n",
    "nassCDS21.groupby(['Fatality']).agg({'Pass Age': \"count\"})"
   ]
  },
  {
   "cell_type": "code",
   "execution_count": 47,
   "metadata": {},
   "outputs": [
    {
     "data": {
      "text/html": [
       "<div>\n",
       "<style scoped>\n",
       "    .dataframe tbody tr th:only-of-type {\n",
       "        vertical-align: middle;\n",
       "    }\n",
       "\n",
       "    .dataframe tbody tr th {\n",
       "        vertical-align: top;\n",
       "    }\n",
       "\n",
       "    .dataframe thead th {\n",
       "        text-align: right;\n",
       "    }\n",
       "</style>\n",
       "<table border=\"1\" class=\"dataframe\">\n",
       "  <thead>\n",
       "    <tr style=\"text-align: right;\">\n",
       "      <th>Pass Age</th>\n",
       "      <th>16</th>\n",
       "      <th>17</th>\n",
       "      <th>18</th>\n",
       "      <th>19</th>\n",
       "      <th>20</th>\n",
       "      <th>21</th>\n",
       "      <th>22</th>\n",
       "      <th>23</th>\n",
       "      <th>24</th>\n",
       "      <th>25</th>\n",
       "      <th>...</th>\n",
       "      <th>88</th>\n",
       "      <th>89</th>\n",
       "      <th>90</th>\n",
       "      <th>91</th>\n",
       "      <th>92</th>\n",
       "      <th>93</th>\n",
       "      <th>94</th>\n",
       "      <th>95</th>\n",
       "      <th>96</th>\n",
       "      <th>97</th>\n",
       "    </tr>\n",
       "    <tr>\n",
       "      <th>Fatality</th>\n",
       "      <th></th>\n",
       "      <th></th>\n",
       "      <th></th>\n",
       "      <th></th>\n",
       "      <th></th>\n",
       "      <th></th>\n",
       "      <th></th>\n",
       "      <th></th>\n",
       "      <th></th>\n",
       "      <th></th>\n",
       "      <th></th>\n",
       "      <th></th>\n",
       "      <th></th>\n",
       "      <th></th>\n",
       "      <th></th>\n",
       "      <th></th>\n",
       "      <th></th>\n",
       "      <th></th>\n",
       "      <th></th>\n",
       "      <th></th>\n",
       "      <th></th>\n",
       "    </tr>\n",
       "  </thead>\n",
       "  <tbody>\n",
       "    <tr>\n",
       "      <th>alive</th>\n",
       "      <td>697</td>\n",
       "      <td>880</td>\n",
       "      <td>916</td>\n",
       "      <td>908</td>\n",
       "      <td>807</td>\n",
       "      <td>764</td>\n",
       "      <td>650</td>\n",
       "      <td>598</td>\n",
       "      <td>602</td>\n",
       "      <td>583</td>\n",
       "      <td>...</td>\n",
       "      <td>22</td>\n",
       "      <td>16</td>\n",
       "      <td>7</td>\n",
       "      <td>6</td>\n",
       "      <td>4</td>\n",
       "      <td>9</td>\n",
       "      <td>2</td>\n",
       "      <td>1</td>\n",
       "      <td>2</td>\n",
       "      <td>3</td>\n",
       "    </tr>\n",
       "    <tr>\n",
       "      <th>dead</th>\n",
       "      <td>24</td>\n",
       "      <td>25</td>\n",
       "      <td>37</td>\n",
       "      <td>39</td>\n",
       "      <td>29</td>\n",
       "      <td>33</td>\n",
       "      <td>37</td>\n",
       "      <td>27</td>\n",
       "      <td>18</td>\n",
       "      <td>26</td>\n",
       "      <td>...</td>\n",
       "      <td>10</td>\n",
       "      <td>5</td>\n",
       "      <td>2</td>\n",
       "      <td>4</td>\n",
       "      <td>2</td>\n",
       "      <td>0</td>\n",
       "      <td>0</td>\n",
       "      <td>0</td>\n",
       "      <td>0</td>\n",
       "      <td>1</td>\n",
       "    </tr>\n",
       "  </tbody>\n",
       "</table>\n",
       "<p>2 rows × 82 columns</p>\n",
       "</div>"
      ],
      "text/plain": [
       "Pass Age   16   17   18   19   20   21   22   23   24   25  ...  88  89  90  \\\n",
       "Fatality                                                    ...               \n",
       "alive     697  880  916  908  807  764  650  598  602  583  ...  22  16   7   \n",
       "dead       24   25   37   39   29   33   37   27   18   26  ...  10   5   2   \n",
       "\n",
       "Pass Age  91  92  93  94  95  96  97  \n",
       "Fatality                              \n",
       "alive      6   4   9   2   1   2   3  \n",
       "dead       4   2   0   0   0   0   1  \n",
       "\n",
       "[2 rows x 82 columns]"
      ]
     },
     "execution_count": 47,
     "metadata": {},
     "output_type": "execute_result"
    }
   ],
   "source": [
    "#Group survival or death by different Passenger Age values\n",
    "pd.crosstab(nassCDS21['Fatality'], nassCDS21['Pass Age'])"
   ]
  },
  {
   "cell_type": "code",
   "execution_count": 81,
   "metadata": {},
   "outputs": [
    {
     "name": "stdout",
     "output_type": "stream",
     "text": [
      "19 39\n"
     ]
    }
   ],
   "source": [
    "##Find which passenger age value recorded the most deaths\n",
    "age = nassCDS21.loc[nassCDS21['Fatality'] == 'dead', 'Pass Age'].value_counts().idxmax()\n",
    "numb = nassCDS21.loc[nassCDS21['Fatality'] == 'dead', 'Pass Age'].value_counts().max()\n",
    "print(age, numb)"
   ]
  },
  {
   "cell_type": "code",
   "execution_count": 82,
   "metadata": {},
   "outputs": [
    {
     "name": "stdout",
     "output_type": "stream",
     "text": [
      "97 1\n"
     ]
    }
   ],
   "source": [
    "##Find too the Pssenger Age value with the least deaths\n",
    "age1 = nassCDS21.loc[nassCDS21['Fatality'] == 'dead', 'Pass Age'].value_counts().idxmin()\n",
    "numb1 = nassCDS21.loc[nassCDS21['Fatality'] == 'dead', 'Pass Age'].value_counts().min()\n",
    "\n",
    "print(age1, numb1)"
   ]
  },
  {
   "cell_type": "code",
   "execution_count": 72,
   "metadata": {},
   "outputs": [
    {
     "data": {
      "text/html": [
       "<div>\n",
       "<style scoped>\n",
       "    .dataframe tbody tr th:only-of-type {\n",
       "        vertical-align: middle;\n",
       "    }\n",
       "\n",
       "    .dataframe tbody tr th {\n",
       "        vertical-align: top;\n",
       "    }\n",
       "\n",
       "    .dataframe thead th {\n",
       "        text-align: right;\n",
       "    }\n",
       "</style>\n",
       "<table border=\"1\" class=\"dataframe\">\n",
       "  <thead>\n",
       "    <tr style=\"text-align: right;\">\n",
       "      <th>YearVeh</th>\n",
       "      <th>1953</th>\n",
       "      <th>1956</th>\n",
       "      <th>1959</th>\n",
       "      <th>1961</th>\n",
       "      <th>1963</th>\n",
       "      <th>1964</th>\n",
       "      <th>1965</th>\n",
       "      <th>1966</th>\n",
       "      <th>1967</th>\n",
       "      <th>1968</th>\n",
       "      <th>...</th>\n",
       "      <th>1994</th>\n",
       "      <th>1995</th>\n",
       "      <th>1996</th>\n",
       "      <th>1997</th>\n",
       "      <th>1998</th>\n",
       "      <th>1999</th>\n",
       "      <th>2000</th>\n",
       "      <th>2001</th>\n",
       "      <th>2002</th>\n",
       "      <th>2003</th>\n",
       "    </tr>\n",
       "    <tr>\n",
       "      <th>Fatality</th>\n",
       "      <th></th>\n",
       "      <th></th>\n",
       "      <th></th>\n",
       "      <th></th>\n",
       "      <th></th>\n",
       "      <th></th>\n",
       "      <th></th>\n",
       "      <th></th>\n",
       "      <th></th>\n",
       "      <th></th>\n",
       "      <th></th>\n",
       "      <th></th>\n",
       "      <th></th>\n",
       "      <th></th>\n",
       "      <th></th>\n",
       "      <th></th>\n",
       "      <th></th>\n",
       "      <th></th>\n",
       "      <th></th>\n",
       "      <th></th>\n",
       "      <th></th>\n",
       "    </tr>\n",
       "  </thead>\n",
       "  <tbody>\n",
       "    <tr>\n",
       "      <th>alive</th>\n",
       "      <td>1</td>\n",
       "      <td>2</td>\n",
       "      <td>1</td>\n",
       "      <td>1</td>\n",
       "      <td>3</td>\n",
       "      <td>1</td>\n",
       "      <td>4</td>\n",
       "      <td>12</td>\n",
       "      <td>7</td>\n",
       "      <td>9</td>\n",
       "      <td>...</td>\n",
       "      <td>1490</td>\n",
       "      <td>1682</td>\n",
       "      <td>1521</td>\n",
       "      <td>1585</td>\n",
       "      <td>1557</td>\n",
       "      <td>1397</td>\n",
       "      <td>1084</td>\n",
       "      <td>612</td>\n",
       "      <td>320</td>\n",
       "      <td>28</td>\n",
       "    </tr>\n",
       "    <tr>\n",
       "      <th>dead</th>\n",
       "      <td>0</td>\n",
       "      <td>0</td>\n",
       "      <td>0</td>\n",
       "      <td>0</td>\n",
       "      <td>1</td>\n",
       "      <td>0</td>\n",
       "      <td>0</td>\n",
       "      <td>3</td>\n",
       "      <td>1</td>\n",
       "      <td>1</td>\n",
       "      <td>...</td>\n",
       "      <td>76</td>\n",
       "      <td>95</td>\n",
       "      <td>59</td>\n",
       "      <td>62</td>\n",
       "      <td>45</td>\n",
       "      <td>35</td>\n",
       "      <td>57</td>\n",
       "      <td>23</td>\n",
       "      <td>16</td>\n",
       "      <td>1</td>\n",
       "    </tr>\n",
       "  </tbody>\n",
       "</table>\n",
       "<p>2 rows × 45 columns</p>\n",
       "</div>"
      ],
      "text/plain": [
       "YearVeh   1953  1956  1959  1961  1963  1964  1965  1966  1967  1968  ...  \\\n",
       "Fatality                                                              ...   \n",
       "alive        1     2     1     1     3     1     4    12     7     9  ...   \n",
       "dead         0     0     0     0     1     0     0     3     1     1  ...   \n",
       "\n",
       "YearVeh   1994  1995  1996  1997  1998  1999  2000  2001  2002  2003  \n",
       "Fatality                                                              \n",
       "alive     1490  1682  1521  1585  1557  1397  1084   612   320    28  \n",
       "dead        76    95    59    62    45    35    57    23    16     1  \n",
       "\n",
       "[2 rows x 45 columns]"
      ]
     },
     "execution_count": 72,
     "metadata": {},
     "output_type": "execute_result"
    }
   ],
   "source": [
    "pd.crosstab(nassCDS21['Fatality'], nassCDS21['YearVeh'])"
   ]
  },
  {
   "cell_type": "code",
   "execution_count": 79,
   "metadata": {},
   "outputs": [
    {
     "name": "stdout",
     "output_type": "stream",
     "text": [
      "1995 95\n"
     ]
    }
   ],
   "source": [
    "##Find the vehicle year that recorded most deaths\n",
    "Year = nassCDS21.loc[nassCDS21['Fatality'] == 'dead', 'YearVeh'].value_counts().idxmax()\n",
    "number = nassCDS21.loc[nassCDS21['Fatality'] == 'dead', 'YearVeh'].value_counts().max()\n",
    "print(Year, number)"
   ]
  },
  {
   "cell_type": "code",
   "execution_count": 76,
   "metadata": {},
   "outputs": [
    {
     "data": {
      "text/plain": [
       "1967"
      ]
     },
     "execution_count": 76,
     "metadata": {},
     "output_type": "execute_result"
    }
   ],
   "source": [
    "#nassCDS21.loc[nassCDS21['Fatality'] == 'dead', 'YearVeh'].value_counts().idxmin()"
   ]
  },
  {
   "cell_type": "code",
   "execution_count": 25,
   "metadata": {},
   "outputs": [
    {
     "data": {
      "text/plain": [
       "(22824, 13)"
      ]
     },
     "execution_count": 25,
     "metadata": {},
     "output_type": "execute_result"
    }
   ],
   "source": [
    "nassCDS21 = nassCDS21.drop(['Abcat'], axis = 1)\n",
    "nassCDS21.shape"
   ]
  },
  {
   "cell_type": "code",
   "execution_count": 27,
   "metadata": {},
   "outputs": [
    {
     "data": {
      "text/html": [
       "<div>\n",
       "<style scoped>\n",
       "    .dataframe tbody tr th:only-of-type {\n",
       "        vertical-align: middle;\n",
       "    }\n",
       "\n",
       "    .dataframe tbody tr th {\n",
       "        vertical-align: top;\n",
       "    }\n",
       "\n",
       "    .dataframe thead th {\n",
       "        text-align: right;\n",
       "    }\n",
       "</style>\n",
       "<table border=\"1\" class=\"dataframe\">\n",
       "  <thead>\n",
       "    <tr style=\"text-align: right;\">\n",
       "      <th></th>\n",
       "      <th>Speed Impact</th>\n",
       "      <th>Weight</th>\n",
       "      <th>Fatality</th>\n",
       "      <th>AirBag</th>\n",
       "      <th>Seatbelt</th>\n",
       "      <th>Frontal</th>\n",
       "      <th>Sex</th>\n",
       "      <th>Pass Age</th>\n",
       "      <th>Accident Year</th>\n",
       "      <th>YearVeh</th>\n",
       "      <th>Role</th>\n",
       "      <th>Airbag Deploy</th>\n",
       "      <th>InjSeverity</th>\n",
       "    </tr>\n",
       "    <tr>\n",
       "      <th>CaseID</th>\n",
       "      <th></th>\n",
       "      <th></th>\n",
       "      <th></th>\n",
       "      <th></th>\n",
       "      <th></th>\n",
       "      <th></th>\n",
       "      <th></th>\n",
       "      <th></th>\n",
       "      <th></th>\n",
       "      <th></th>\n",
       "      <th></th>\n",
       "      <th></th>\n",
       "      <th></th>\n",
       "    </tr>\n",
       "  </thead>\n",
       "  <tbody>\n",
       "    <tr>\n",
       "      <th>2:3:1</th>\n",
       "      <td>25-39</td>\n",
       "      <td>25.069</td>\n",
       "      <td>alive</td>\n",
       "      <td>none</td>\n",
       "      <td>belted</td>\n",
       "      <td>1</td>\n",
       "      <td>f</td>\n",
       "      <td>26</td>\n",
       "      <td>1997</td>\n",
       "      <td>1990</td>\n",
       "      <td>driver</td>\n",
       "      <td>0</td>\n",
       "      <td>3.0</td>\n",
       "    </tr>\n",
       "    <tr>\n",
       "      <th>2:3:2</th>\n",
       "      <td>10-24</td>\n",
       "      <td>25.069</td>\n",
       "      <td>alive</td>\n",
       "      <td>airbag</td>\n",
       "      <td>belted</td>\n",
       "      <td>1</td>\n",
       "      <td>f</td>\n",
       "      <td>72</td>\n",
       "      <td>1997</td>\n",
       "      <td>1995</td>\n",
       "      <td>driver</td>\n",
       "      <td>1</td>\n",
       "      <td>1.0</td>\n",
       "    </tr>\n",
       "    <tr>\n",
       "      <th>2:10:1</th>\n",
       "      <td>25-39</td>\n",
       "      <td>495.444</td>\n",
       "      <td>alive</td>\n",
       "      <td>airbag</td>\n",
       "      <td>belted</td>\n",
       "      <td>1</td>\n",
       "      <td>f</td>\n",
       "      <td>53</td>\n",
       "      <td>1997</td>\n",
       "      <td>1995</td>\n",
       "      <td>driver</td>\n",
       "      <td>1</td>\n",
       "      <td>1.0</td>\n",
       "    </tr>\n",
       "    <tr>\n",
       "      <th>2:11:1</th>\n",
       "      <td>25-39</td>\n",
       "      <td>25.069</td>\n",
       "      <td>alive</td>\n",
       "      <td>none</td>\n",
       "      <td>belted</td>\n",
       "      <td>1</td>\n",
       "      <td>f</td>\n",
       "      <td>32</td>\n",
       "      <td>1997</td>\n",
       "      <td>1988</td>\n",
       "      <td>driver</td>\n",
       "      <td>0</td>\n",
       "      <td>3.0</td>\n",
       "    </tr>\n",
       "    <tr>\n",
       "      <th>2:11:2</th>\n",
       "      <td>40-54</td>\n",
       "      <td>25.069</td>\n",
       "      <td>alive</td>\n",
       "      <td>none</td>\n",
       "      <td>belted</td>\n",
       "      <td>1</td>\n",
       "      <td>f</td>\n",
       "      <td>22</td>\n",
       "      <td>1997</td>\n",
       "      <td>1985</td>\n",
       "      <td>driver</td>\n",
       "      <td>0</td>\n",
       "      <td>3.0</td>\n",
       "    </tr>\n",
       "  </tbody>\n",
       "</table>\n",
       "</div>"
      ],
      "text/plain": [
       "       Speed Impact   Weight Fatality  AirBag Seatbelt Frontal Sex  Pass Age  \\\n",
       "CaseID                                                                         \n",
       "2:3:1         25-39   25.069    alive    none   belted       1   f        26   \n",
       "2:3:2         10-24   25.069    alive  airbag   belted       1   f        72   \n",
       "2:10:1        25-39  495.444    alive  airbag   belted       1   f        53   \n",
       "2:11:1        25-39   25.069    alive    none   belted       1   f        32   \n",
       "2:11:2        40-54   25.069    alive    none   belted       1   f        22   \n",
       "\n",
       "        Accident Year  YearVeh    Role Airbag Deploy InjSeverity  \n",
       "CaseID                                                            \n",
       "2:3:1            1997     1990  driver             0         3.0  \n",
       "2:3:2            1997     1995  driver             1         1.0  \n",
       "2:10:1           1997     1995  driver             1         1.0  \n",
       "2:11:1           1997     1988  driver             0         3.0  \n",
       "2:11:2           1997     1985  driver             0         3.0  "
      ]
     },
     "execution_count": 27,
     "metadata": {},
     "output_type": "execute_result"
    }
   ],
   "source": [
    "nassCDS21.head(5)"
   ]
  },
  {
   "cell_type": "markdown",
   "metadata": {},
   "source": [
    "## Predictive modelling using Random Forest"
   ]
  },
  {
   "cell_type": "markdown",
   "metadata": {},
   "source": [
    "#### For a highly skewed variable of our interest (Fatality), class inbalance could lead to inaccurate classification performance. It becomes very important to address this through the concept of 'weighting'. First we make a plot of the class of interest to confirm its inbalance or otherwise"
   ]
  },
  {
   "cell_type": "code",
   "execution_count": 28,
   "metadata": {},
   "outputs": [
    {
     "data": {
      "text/plain": [
       "<matplotlib.axes._subplots.AxesSubplot at 0x219df61ef0>"
      ]
     },
     "execution_count": 28,
     "metadata": {},
     "output_type": "execute_result"
    },
    {
     "data": {
      "image/png": "[encoded data removed]",
      "text/plain": [
       "<Figure size 432x288 with 1 Axes>"
      ]
     },
     "metadata": {
      "needs_background": "light"
     },
     "output_type": "display_data"
    }
   ],
   "source": [
    "sns.countplot(nassCDS21['Fatality'])"
   ]
  },
  {
   "cell_type": "markdown",
   "metadata": {},
   "source": [
    "#### It is clear from the plot above that the 'Fatality' variable is inbalanced as there is an overwhelming number of front seat passengers who made it out of an accident alive than those who died.\n",
    "#### Using the typical accuracy score to measure the performance of the model will be highly misleading as it would most likely yield high accuracy, since the overwhemling majority of the class are 'alive'. But it would also misclassify the 'dead' and we dont want that\n"
   ]
  },
  {
   "cell_type": "code",
   "execution_count": 37,
   "metadata": {},
   "outputs": [
    {
     "data": {
      "text/html": [
       "<div>\n",
       "<style scoped>\n",
       "    .dataframe tbody tr th:only-of-type {\n",
       "        vertical-align: middle;\n",
       "    }\n",
       "\n",
       "    .dataframe tbody tr th {\n",
       "        vertical-align: top;\n",
       "    }\n",
       "\n",
       "    .dataframe thead th {\n",
       "        text-align: right;\n",
       "    }\n",
       "</style>\n",
       "<table border=\"1\" class=\"dataframe\">\n",
       "  <thead>\n",
       "    <tr style=\"text-align: right;\">\n",
       "      <th></th>\n",
       "      <th>Weight</th>\n",
       "      <th>Fatality</th>\n",
       "      <th>Pass Age</th>\n",
       "      <th>Accident Year</th>\n",
       "      <th>YearVeh</th>\n",
       "      <th>Speed Impact_1-9km/h</th>\n",
       "      <th>Speed Impact_10-24</th>\n",
       "      <th>Speed Impact_25-39</th>\n",
       "      <th>Speed Impact_40-54</th>\n",
       "      <th>Speed Impact_55+</th>\n",
       "      <th>...</th>\n",
       "      <th>Sex_m</th>\n",
       "      <th>Role_driver</th>\n",
       "      <th>Role_pass</th>\n",
       "      <th>Airbag Deploy_0</th>\n",
       "      <th>Airbag Deploy_1</th>\n",
       "      <th>InjSeverity_0.0</th>\n",
       "      <th>InjSeverity_1.0</th>\n",
       "      <th>InjSeverity_2.0</th>\n",
       "      <th>InjSeverity_3.0</th>\n",
       "      <th>InjSeverity_4.0</th>\n",
       "    </tr>\n",
       "  </thead>\n",
       "  <tbody>\n",
       "    <tr>\n",
       "      <th>0</th>\n",
       "      <td>25.069</td>\n",
       "      <td>alive</td>\n",
       "      <td>26</td>\n",
       "      <td>1997</td>\n",
       "      <td>1990</td>\n",
       "      <td>0</td>\n",
       "      <td>0</td>\n",
       "      <td>1</td>\n",
       "      <td>0</td>\n",
       "      <td>0</td>\n",
       "      <td>...</td>\n",
       "      <td>0</td>\n",
       "      <td>1</td>\n",
       "      <td>0</td>\n",
       "      <td>1</td>\n",
       "      <td>0</td>\n",
       "      <td>0</td>\n",
       "      <td>0</td>\n",
       "      <td>0</td>\n",
       "      <td>1</td>\n",
       "      <td>0</td>\n",
       "    </tr>\n",
       "    <tr>\n",
       "      <th>1</th>\n",
       "      <td>25.069</td>\n",
       "      <td>alive</td>\n",
       "      <td>72</td>\n",
       "      <td>1997</td>\n",
       "      <td>1995</td>\n",
       "      <td>0</td>\n",
       "      <td>1</td>\n",
       "      <td>0</td>\n",
       "      <td>0</td>\n",
       "      <td>0</td>\n",
       "      <td>...</td>\n",
       "      <td>0</td>\n",
       "      <td>1</td>\n",
       "      <td>0</td>\n",
       "      <td>0</td>\n",
       "      <td>1</td>\n",
       "      <td>0</td>\n",
       "      <td>1</td>\n",
       "      <td>0</td>\n",
       "      <td>0</td>\n",
       "      <td>0</td>\n",
       "    </tr>\n",
       "    <tr>\n",
       "      <th>2</th>\n",
       "      <td>495.444</td>\n",
       "      <td>alive</td>\n",
       "      <td>53</td>\n",
       "      <td>1997</td>\n",
       "      <td>1995</td>\n",
       "      <td>0</td>\n",
       "      <td>0</td>\n",
       "      <td>1</td>\n",
       "      <td>0</td>\n",
       "      <td>0</td>\n",
       "      <td>...</td>\n",
       "      <td>0</td>\n",
       "      <td>1</td>\n",
       "      <td>0</td>\n",
       "      <td>0</td>\n",
       "      <td>1</td>\n",
       "      <td>0</td>\n",
       "      <td>1</td>\n",
       "      <td>0</td>\n",
       "      <td>0</td>\n",
       "      <td>0</td>\n",
       "    </tr>\n",
       "    <tr>\n",
       "      <th>3</th>\n",
       "      <td>25.069</td>\n",
       "      <td>alive</td>\n",
       "      <td>32</td>\n",
       "      <td>1997</td>\n",
       "      <td>1988</td>\n",
       "      <td>0</td>\n",
       "      <td>0</td>\n",
       "      <td>1</td>\n",
       "      <td>0</td>\n",
       "      <td>0</td>\n",
       "      <td>...</td>\n",
       "      <td>0</td>\n",
       "      <td>1</td>\n",
       "      <td>0</td>\n",
       "      <td>1</td>\n",
       "      <td>0</td>\n",
       "      <td>0</td>\n",
       "      <td>0</td>\n",
       "      <td>0</td>\n",
       "      <td>1</td>\n",
       "      <td>0</td>\n",
       "    </tr>\n",
       "    <tr>\n",
       "      <th>4</th>\n",
       "      <td>25.069</td>\n",
       "      <td>alive</td>\n",
       "      <td>22</td>\n",
       "      <td>1997</td>\n",
       "      <td>1985</td>\n",
       "      <td>0</td>\n",
       "      <td>0</td>\n",
       "      <td>0</td>\n",
       "      <td>1</td>\n",
       "      <td>0</td>\n",
       "      <td>...</td>\n",
       "      <td>0</td>\n",
       "      <td>1</td>\n",
       "      <td>0</td>\n",
       "      <td>1</td>\n",
       "      <td>0</td>\n",
       "      <td>0</td>\n",
       "      <td>0</td>\n",
       "      <td>0</td>\n",
       "      <td>1</td>\n",
       "      <td>0</td>\n",
       "    </tr>\n",
       "  </tbody>\n",
       "</table>\n",
       "<p>5 rows × 27 columns</p>\n",
       "</div>"
      ],
      "text/plain": [
       "    Weight Fatality  Pass Age  Accident Year  YearVeh  Speed Impact_1-9km/h  \\\n",
       "0   25.069    alive        26           1997     1990                     0   \n",
       "1   25.069    alive        72           1997     1995                     0   \n",
       "2  495.444    alive        53           1997     1995                     0   \n",
       "3   25.069    alive        32           1997     1988                     0   \n",
       "4   25.069    alive        22           1997     1985                     0   \n",
       "\n",
       "   Speed Impact_10-24  Speed Impact_25-39  Speed Impact_40-54  \\\n",
       "0                   0                   1                   0   \n",
       "1                   1                   0                   0   \n",
       "2                   0                   1                   0   \n",
       "3                   0                   1                   0   \n",
       "4                   0                   0                   1   \n",
       "\n",
       "   Speed Impact_55+  ...  Sex_m  Role_driver  Role_pass  Airbag Deploy_0  \\\n",
       "0                 0  ...      0            1          0                1   \n",
       "1                 0  ...      0            1          0                0   \n",
       "2                 0  ...      0            1          0                0   \n",
       "3                 0  ...      0            1          0                1   \n",
       "4                 0  ...      0            1          0                1   \n",
       "\n",
       "   Airbag Deploy_1  InjSeverity_0.0  InjSeverity_1.0  InjSeverity_2.0  \\\n",
       "0                0                0                0                0   \n",
       "1                1                0                1                0   \n",
       "2                1                0                1                0   \n",
       "3                0                0                0                0   \n",
       "4                0                0                0                0   \n",
       "\n",
       "   InjSeverity_3.0  InjSeverity_4.0  \n",
       "0                1                0  \n",
       "1                0                0  \n",
       "2                0                0  \n",
       "3                1                0  \n",
       "4                1                0  \n",
       "\n",
       "[5 rows x 27 columns]"
      ]
     },
     "execution_count": 37,
     "metadata": {},
     "output_type": "execute_result"
    }
   ],
   "source": [
    "##First hot code the categorical variables in the dataframe\n",
    "df = pd.get_dummies(nassCDS21, columns = ['Speed Impact', 'AirBag', 'Seatbelt', 'Frontal',\n",
    "                                         'Sex', 'Role', 'Airbag Deploy', 'InjSeverity'])\n",
    "df.reset_index(drop = True, inplace = True) ##This resets and drop the index column\n",
    "df.head()"
   ]
  },
  {
   "cell_type": "code",
   "execution_count": 41,
   "metadata": {},
   "outputs": [
    {
     "name": "stdout",
     "output_type": "stream",
     "text": [
      "Size of the train dataset:  15976\n",
      "Size of the test dataset:  6848\n"
     ]
    }
   ],
   "source": [
    "##We proceed to build our Machine Learning model\n",
    "from sklearn.model_selection import train_test_split\n",
    "from sklearn.ensemble import RandomForestClassifier\n",
    "from sklearn.metrics import roc_curve, auc, confusion_matrix\n",
    "\n",
    "y = df.Fatality\n",
    "X = df.drop('Fatality', axis = 1)\n",
    "\n",
    "X_train, X_test, y_train, y_test = train_test_split(X, y, test_size = 0.3, random_state = 0)\n",
    "\n",
    "print(\"Size of the train dataset: \", len(X_train))\n",
    "print(\"Size of the test dataset: \", len(X_test))"
   ]
  },
  {
   "cell_type": "code",
   "execution_count": 42,
   "metadata": {},
   "outputs": [
    {
     "name": "stdout",
     "output_type": "stream",
     "text": [
      "[[6510    0]\n",
      " [  24  314]]\n"
     ]
    }
   ],
   "source": [
    "clf = RandomForestClassifier(random_state =0, n_jobs = -1, n_estimators = 50, class_weight = 'balanced').fit(X_train, y_train)\n",
    "pred = clf.predict(X_test)\n",
    "print(confusion_matrix(y_test, pred))"
   ]
  },
  {
   "cell_type": "code",
   "execution_count": 43,
   "metadata": {},
   "outputs": [
    {
     "name": "stdout",
     "output_type": "stream",
     "text": [
      "0.9964953271028038\n"
     ]
    }
   ],
   "source": [
    "print(clf.score(X_test, y_test)) ##This outputs the accuracy of the model"
   ]
  },
  {
   "cell_type": "code",
   "execution_count": 44,
   "metadata": {},
   "outputs": [
    {
     "data": {
      "text/plain": [
       "0.9964953271028038"
      ]
     },
     "execution_count": 44,
     "metadata": {},
     "output_type": "execute_result"
    }
   ],
   "source": [
    "accuracy = (6510 + 314)/(6510 + 24 + 314 + 0)\n",
    "accuracy"
   ]
  },
  {
   "cell_type": "code",
   "execution_count": 45,
   "metadata": {},
   "outputs": [
    {
     "name": "stdout",
     "output_type": "stream",
     "text": [
      "              precision    recall  f1-score   support\n",
      "\n",
      "       alive       1.00      1.00      1.00      6534\n",
      "        dead       0.93      1.00      0.96       314\n",
      "\n",
      "    accuracy                           1.00      6848\n",
      "   macro avg       0.96      1.00      0.98      6848\n",
      "weighted avg       1.00      1.00      1.00      6848\n",
      "\n"
     ]
    }
   ],
   "source": [
    "from sklearn.metrics import classification_report\n",
    "\n",
    "print(classification_report(pred, y_test)) ##This outputs the precision, recall and other metrics of the model"
   ]
  },
  {
   "cell_type": "markdown",
   "metadata": {},
   "source": [
    "#### The performanace of this model judging by its accuracy shows that random forest remains one of the best techniques for modelling inbalanced data. Its score could have been attributed to overfitting but for the precision and recall scores. The scores for the 'dead' label shows that even though we missed a few number of the True Positives(24), most were correctly classified(6510)."
   ]
  },
  {
   "cell_type": "code",
   "execution_count": null,
   "metadata": {},
   "outputs": [],
   "source": []
  }
 ],
 "metadata": {
  "kernelspec": {
   "display_name": "Python 3",
   "language": "python",
   "name": "python3"
  },
  "language_info": {
   "codemirror_mode": {
    "name": "ipython",
    "version": 3
   },
   "file_extension": ".py",
   "mimetype": "text/x-python",
   "name": "python",
   "nbconvert_exporter": "python",
   "pygments_lexer": "ipython3",
   "version": "3.7.3"
  }
 },
 "nbformat": 4,
 "nbformat_minor": 4
}
